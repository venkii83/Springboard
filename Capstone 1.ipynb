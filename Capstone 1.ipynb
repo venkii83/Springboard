{
 "cells": [
  {
   "cell_type": "code",
   "execution_count": 127,
   "metadata": {},
   "outputs": [],
   "source": [
    "import pandas as pd\n",
    "import numpy as np\n",
    "import matplotlib.pyplot as plt\n",
    "from matplotlib.ticker import StrMethodFormatter\n",
    "import seaborn as sns\n",
    "from matplotlib.colors import ListedColormap\n",
    "import warnings\n",
    "warnings.filterwarnings('ignore')\n",
    "from pandas import ExcelWriter\n",
    "from pandas import ExcelFile"
   ]
  },
  {
   "cell_type": "code",
   "execution_count": 128,
   "metadata": {},
   "outputs": [
    {
     "data": {
      "text/html": [
       "<div>\n",
       "<style scoped>\n",
       "    .dataframe tbody tr th:only-of-type {\n",
       "        vertical-align: middle;\n",
       "    }\n",
       "\n",
       "    .dataframe tbody tr th {\n",
       "        vertical-align: top;\n",
       "    }\n",
       "\n",
       "    .dataframe thead th {\n",
       "        text-align: right;\n",
       "    }\n",
       "</style>\n",
       "<table border=\"1\" class=\"dataframe\">\n",
       "  <thead>\n",
       "    <tr style=\"text-align: right;\">\n",
       "      <th></th>\n",
       "      <th>id</th>\n",
       "      <th>secs_elapsed</th>\n",
       "      <th>date_account_created</th>\n",
       "      <th>timestamp_first_active</th>\n",
       "      <th>date_first_booking</th>\n",
       "      <th>gender</th>\n",
       "      <th>age</th>\n",
       "      <th>signup_method</th>\n",
       "      <th>signup_flow</th>\n",
       "      <th>language</th>\n",
       "      <th>affiliate_channel</th>\n",
       "      <th>affiliate_provider</th>\n",
       "      <th>first_affiliate_tracked</th>\n",
       "      <th>signup_app</th>\n",
       "      <th>first_device_type</th>\n",
       "      <th>first_browser</th>\n",
       "      <th>country_destination</th>\n",
       "    </tr>\n",
       "  </thead>\n",
       "  <tbody>\n",
       "    <tr>\n",
       "      <td>0</td>\n",
       "      <td>gxn3p5htnn</td>\n",
       "      <td>NaN</td>\n",
       "      <td>2010-06-28</td>\n",
       "      <td>2.010000e+13</td>\n",
       "      <td>NaN</td>\n",
       "      <td>-unknown-</td>\n",
       "      <td>NaN</td>\n",
       "      <td>facebook</td>\n",
       "      <td>0.0</td>\n",
       "      <td>en</td>\n",
       "      <td>direct</td>\n",
       "      <td>direct</td>\n",
       "      <td>untracked</td>\n",
       "      <td>Web</td>\n",
       "      <td>Mac Desktop</td>\n",
       "      <td>Chrome</td>\n",
       "      <td>NDF</td>\n",
       "    </tr>\n",
       "    <tr>\n",
       "      <td>1</td>\n",
       "      <td>820tgsjxq7</td>\n",
       "      <td>NaN</td>\n",
       "      <td>2011-05-25</td>\n",
       "      <td>2.010000e+13</td>\n",
       "      <td>NaN</td>\n",
       "      <td>MALE</td>\n",
       "      <td>38.0</td>\n",
       "      <td>facebook</td>\n",
       "      <td>0.0</td>\n",
       "      <td>en</td>\n",
       "      <td>seo</td>\n",
       "      <td>google</td>\n",
       "      <td>untracked</td>\n",
       "      <td>Web</td>\n",
       "      <td>Mac Desktop</td>\n",
       "      <td>Chrome</td>\n",
       "      <td>NDF</td>\n",
       "    </tr>\n",
       "    <tr>\n",
       "      <td>2</td>\n",
       "      <td>4ft3gnwmtx</td>\n",
       "      <td>NaN</td>\n",
       "      <td>2010-09-28</td>\n",
       "      <td>2.010000e+13</td>\n",
       "      <td>2010-08-02</td>\n",
       "      <td>FEMALE</td>\n",
       "      <td>56.0</td>\n",
       "      <td>basic</td>\n",
       "      <td>3.0</td>\n",
       "      <td>en</td>\n",
       "      <td>direct</td>\n",
       "      <td>direct</td>\n",
       "      <td>untracked</td>\n",
       "      <td>Web</td>\n",
       "      <td>Windows Desktop</td>\n",
       "      <td>IE</td>\n",
       "      <td>US</td>\n",
       "    </tr>\n",
       "    <tr>\n",
       "      <td>3</td>\n",
       "      <td>bjjt8pjhuk</td>\n",
       "      <td>NaN</td>\n",
       "      <td>2011-12-05</td>\n",
       "      <td>2.010000e+13</td>\n",
       "      <td>2012-09-08</td>\n",
       "      <td>FEMALE</td>\n",
       "      <td>42.0</td>\n",
       "      <td>facebook</td>\n",
       "      <td>0.0</td>\n",
       "      <td>en</td>\n",
       "      <td>direct</td>\n",
       "      <td>direct</td>\n",
       "      <td>untracked</td>\n",
       "      <td>Web</td>\n",
       "      <td>Mac Desktop</td>\n",
       "      <td>Firefox</td>\n",
       "      <td>other</td>\n",
       "    </tr>\n",
       "    <tr>\n",
       "      <td>4</td>\n",
       "      <td>87mebub9p4</td>\n",
       "      <td>NaN</td>\n",
       "      <td>2010-09-14</td>\n",
       "      <td>2.010000e+13</td>\n",
       "      <td>2010-02-18</td>\n",
       "      <td>-unknown-</td>\n",
       "      <td>41.0</td>\n",
       "      <td>basic</td>\n",
       "      <td>0.0</td>\n",
       "      <td>en</td>\n",
       "      <td>direct</td>\n",
       "      <td>direct</td>\n",
       "      <td>untracked</td>\n",
       "      <td>Web</td>\n",
       "      <td>Mac Desktop</td>\n",
       "      <td>Chrome</td>\n",
       "      <td>US</td>\n",
       "    </tr>\n",
       "    <tr>\n",
       "      <td>5</td>\n",
       "      <td>osr2jwljor</td>\n",
       "      <td>NaN</td>\n",
       "      <td>2010-01-01</td>\n",
       "      <td>2.010000e+13</td>\n",
       "      <td>2010-01-02</td>\n",
       "      <td>-unknown-</td>\n",
       "      <td>NaN</td>\n",
       "      <td>basic</td>\n",
       "      <td>0.0</td>\n",
       "      <td>en</td>\n",
       "      <td>other</td>\n",
       "      <td>other</td>\n",
       "      <td>omg</td>\n",
       "      <td>Web</td>\n",
       "      <td>Mac Desktop</td>\n",
       "      <td>Chrome</td>\n",
       "      <td>US</td>\n",
       "    </tr>\n",
       "    <tr>\n",
       "      <td>6</td>\n",
       "      <td>lsw9q7uk0j</td>\n",
       "      <td>NaN</td>\n",
       "      <td>2010-01-02</td>\n",
       "      <td>2.010000e+13</td>\n",
       "      <td>2010-01-05</td>\n",
       "      <td>FEMALE</td>\n",
       "      <td>46.0</td>\n",
       "      <td>basic</td>\n",
       "      <td>0.0</td>\n",
       "      <td>en</td>\n",
       "      <td>other</td>\n",
       "      <td>craigslist</td>\n",
       "      <td>untracked</td>\n",
       "      <td>Web</td>\n",
       "      <td>Mac Desktop</td>\n",
       "      <td>Safari</td>\n",
       "      <td>US</td>\n",
       "    </tr>\n",
       "    <tr>\n",
       "      <td>7</td>\n",
       "      <td>0d01nltbrs</td>\n",
       "      <td>NaN</td>\n",
       "      <td>2010-01-03</td>\n",
       "      <td>2.010000e+13</td>\n",
       "      <td>2010-01-13</td>\n",
       "      <td>FEMALE</td>\n",
       "      <td>47.0</td>\n",
       "      <td>basic</td>\n",
       "      <td>NaN</td>\n",
       "      <td>en</td>\n",
       "      <td>direct</td>\n",
       "      <td>direct</td>\n",
       "      <td>omg</td>\n",
       "      <td>Web</td>\n",
       "      <td>Mac Desktop</td>\n",
       "      <td>Safari</td>\n",
       "      <td>US</td>\n",
       "    </tr>\n",
       "    <tr>\n",
       "      <td>8</td>\n",
       "      <td>a1vcnhxeij</td>\n",
       "      <td>NaN</td>\n",
       "      <td>2010-01-04</td>\n",
       "      <td>2.010000e+13</td>\n",
       "      <td>2010-07-29</td>\n",
       "      <td>FEMALE</td>\n",
       "      <td>50.0</td>\n",
       "      <td>basic</td>\n",
       "      <td>0.0</td>\n",
       "      <td>en</td>\n",
       "      <td>other</td>\n",
       "      <td>craigslist</td>\n",
       "      <td>untracked</td>\n",
       "      <td>Web</td>\n",
       "      <td>Mac Desktop</td>\n",
       "      <td>Safari</td>\n",
       "      <td>US</td>\n",
       "    </tr>\n",
       "    <tr>\n",
       "      <td>9</td>\n",
       "      <td>6uh8zyj2gn</td>\n",
       "      <td>NaN</td>\n",
       "      <td>2010-01-04</td>\n",
       "      <td>2.010000e+13</td>\n",
       "      <td>2010-01-04</td>\n",
       "      <td>-unknown-</td>\n",
       "      <td>46.0</td>\n",
       "      <td>basic</td>\n",
       "      <td>0.0</td>\n",
       "      <td>en</td>\n",
       "      <td>other</td>\n",
       "      <td>craigslist</td>\n",
       "      <td>omg</td>\n",
       "      <td>Web</td>\n",
       "      <td>Mac Desktop</td>\n",
       "      <td>Firefox</td>\n",
       "      <td>US</td>\n",
       "    </tr>\n",
       "  </tbody>\n",
       "</table>\n",
       "</div>"
      ],
      "text/plain": [
       "           id  secs_elapsed date_account_created  timestamp_first_active  \\\n",
       "0  gxn3p5htnn           NaN           2010-06-28            2.010000e+13   \n",
       "1  820tgsjxq7           NaN           2011-05-25            2.010000e+13   \n",
       "2  4ft3gnwmtx           NaN           2010-09-28            2.010000e+13   \n",
       "3  bjjt8pjhuk           NaN           2011-12-05            2.010000e+13   \n",
       "4  87mebub9p4           NaN           2010-09-14            2.010000e+13   \n",
       "5  osr2jwljor           NaN           2010-01-01            2.010000e+13   \n",
       "6  lsw9q7uk0j           NaN           2010-01-02            2.010000e+13   \n",
       "7  0d01nltbrs           NaN           2010-01-03            2.010000e+13   \n",
       "8  a1vcnhxeij           NaN           2010-01-04            2.010000e+13   \n",
       "9  6uh8zyj2gn           NaN           2010-01-04            2.010000e+13   \n",
       "\n",
       "  date_first_booking     gender   age signup_method  signup_flow language  \\\n",
       "0                NaN  -unknown-   NaN      facebook          0.0       en   \n",
       "1                NaN       MALE  38.0      facebook          0.0       en   \n",
       "2         2010-08-02     FEMALE  56.0         basic          3.0       en   \n",
       "3         2012-09-08     FEMALE  42.0      facebook          0.0       en   \n",
       "4         2010-02-18  -unknown-  41.0         basic          0.0       en   \n",
       "5         2010-01-02  -unknown-   NaN         basic          0.0       en   \n",
       "6         2010-01-05     FEMALE  46.0         basic          0.0       en   \n",
       "7         2010-01-13     FEMALE  47.0         basic          NaN       en   \n",
       "8         2010-07-29     FEMALE  50.0         basic          0.0       en   \n",
       "9         2010-01-04  -unknown-  46.0         basic          0.0       en   \n",
       "\n",
       "  affiliate_channel affiliate_provider first_affiliate_tracked signup_app  \\\n",
       "0            direct             direct               untracked        Web   \n",
       "1               seo             google               untracked        Web   \n",
       "2            direct             direct               untracked        Web   \n",
       "3            direct             direct               untracked        Web   \n",
       "4            direct             direct               untracked        Web   \n",
       "5             other              other                     omg        Web   \n",
       "6             other         craigslist               untracked        Web   \n",
       "7            direct             direct                     omg        Web   \n",
       "8             other         craigslist               untracked        Web   \n",
       "9             other         craigslist                     omg        Web   \n",
       "\n",
       "  first_device_type first_browser country_destination  \n",
       "0       Mac Desktop        Chrome                 NDF  \n",
       "1       Mac Desktop        Chrome                 NDF  \n",
       "2   Windows Desktop            IE                  US  \n",
       "3       Mac Desktop       Firefox               other  \n",
       "4       Mac Desktop        Chrome                  US  \n",
       "5       Mac Desktop        Chrome                  US  \n",
       "6       Mac Desktop        Safari                  US  \n",
       "7       Mac Desktop        Safari                  US  \n",
       "8       Mac Desktop        Safari                  US  \n",
       "9       Mac Desktop       Firefox                  US  "
      ]
     },
     "execution_count": 128,
     "metadata": {},
     "output_type": "execute_result"
    }
   ],
   "source": [
    "#Importing the data\n",
    "data = pd.read_csv(r'C:/Users/laks0/Documents/GitHub/Springboard/Capstone 1/train_users_2.csv', index_col=None)\n",
    "data.head(10)"
   ]
  },
  {
   "cell_type": "code",
   "execution_count": 129,
   "metadata": {},
   "outputs": [
    {
     "data": {
      "text/plain": [
       "id                              0\n",
       "secs_elapsed               197951\n",
       "date_account_created            0\n",
       "timestamp_first_active          0\n",
       "date_first_booking         124543\n",
       "gender                          0\n",
       "age                         87990\n",
       "signup_method                   0\n",
       "signup_flow                     1\n",
       "language                        0\n",
       "affiliate_channel               0\n",
       "affiliate_provider              0\n",
       "first_affiliate_tracked      6065\n",
       "signup_app                      0\n",
       "first_device_type               0\n",
       "first_browser                   0\n",
       "country_destination             0\n",
       "dtype: int64"
      ]
     },
     "execution_count": 129,
     "metadata": {},
     "output_type": "execute_result"
    }
   ],
   "source": [
    "#Converting in to a dataframe & inital analysis of missing values, we see that date of first booking, age and first affliate\n",
    "# tracked have the most missing values\n",
    "df = pd.DataFrame(data)\n",
    "len(df) - df.count()"
   ]
  },
  {
   "cell_type": "code",
   "execution_count": 130,
   "metadata": {},
   "outputs": [
    {
     "name": "stdout",
     "output_type": "stream",
     "text": [
      "['en' 'fr' 'de' 'es' 'it' 'pt' 'zh' 'ko' 'ja' 'ru' 'pl' 'el' 'sv' 'nl'\n",
      " 'hu' 'da' 'id' 'fi' 'no' 'tr' 'th' 'cs' 'hr' 'ca' 'is']\n",
      "['NDF' 'US' 'other' 'FR' 'CA' 'GB' 'ES' 'IT' 'PT' 'NL' 'DE' 'AU']\n",
      "['untracked' 'omg' nan 'linked' 'tracked-other' 'product' 'marketing'\n",
      " 'local ops']\n",
      "['direct' 'google' 'other' 'craigslist' 'facebook' 'vast' 'bing' 'meetup'\n",
      " 'facebook-open-graph' 'email-marketing' 'yahoo' 'padmapper' 'gsp' 'wayn'\n",
      " 'naver' 'baidu' 'yandex' 'daum']\n",
      "['Web' 'Moweb' 'iOS' 'Android']\n",
      "['Mac Desktop' 'Windows Desktop' 'iPhone' 'Other/Unknown'\n",
      " 'Desktop (Other)' 'Android Tablet' 'iPad' 'Android Phone'\n",
      " 'SmartPhone (Other)']\n",
      "['Chrome' 'IE' 'Firefox' 'Safari' '-unknown-' 'Mobile Safari'\n",
      " 'Chrome Mobile' 'RockMelt' 'Chromium' 'Android Browser' 'AOL Explorer'\n",
      " 'Palm Pre web browser' 'Mobile Firefox' 'Opera' 'TenFourFox' 'IE Mobile'\n",
      " 'Apple Mail' 'Silk' 'Camino' 'Arora' 'BlackBerry Browser' 'SeaMonkey'\n",
      " 'Iron' 'Sogou Explorer' 'IceWeasel' 'Opera Mini' 'SiteKiosk' 'Maxthon'\n",
      " 'Kindle Browser' 'CoolNovo' 'Conkeror' 'wOSBrowser' 'Google Earth'\n",
      " 'Crazy Browser' 'Mozilla' 'OmniWeb' 'PS Vita browser' 'NetNewsWire'\n",
      " 'CometBird' 'Comodo Dragon' 'Flock' 'Pale Moon' 'Avant Browser'\n",
      " 'Opera Mobile' 'Yandex.Browser' 'TheWorld Browser' 'SlimBrowser' 'Epic'\n",
      " 'Stainless' 'Googlebot' 'Outlook 2007' 'IceDragon']\n",
      "['facebook' 'basic' 'google']\n",
      "['-unknown-' 'MALE' 'FEMALE' 'OTHER']\n"
     ]
    }
   ],
   "source": [
    "print(df.language.unique())\n",
    "print(df.country_destination.unique())\n",
    "print(df.first_affiliate_tracked.unique())\n",
    "print(df.affiliate_provider.unique())\n",
    "print(df.signup_app.unique())\n",
    "print(df.first_device_type.unique())\n",
    "print(df.first_browser.unique())\n",
    "print(df.signup_method.unique())\n",
    "print(df.gender.unique())"
   ]
  },
  {
   "cell_type": "code",
   "execution_count": null,
   "metadata": {},
   "outputs": [],
   "source": []
  },
  {
   "cell_type": "code",
   "execution_count": 131,
   "metadata": {},
   "outputs": [
    {
     "name": "stdout",
     "output_type": "stream",
     "text": [
      "3950\n"
     ]
    },
    {
     "data": {
      "image/png": "[encoded data removed]",
      "text/plain": [
       "<Figure size 842.4x595.44 with 1 Axes>"
      ]
     },
     "metadata": {},
     "output_type": "display_data"
    }
   ],
   "source": [
    "#There are people representing ages below 18 who are ineligible to do a booking on Airbnb,\n",
    "#We also assumed that people above the age of 70 would not be potential tourists\n",
    "dfcv = data\n",
    "dfcv = dfcv[(dfcv.age > 70)|(dfcv.age < 18)]\n",
    "dfcv.hist(column='age')\n",
    "print(len(dfcv))"
   ]
  },
  {
   "cell_type": "code",
   "execution_count": 132,
   "metadata": {},
   "outputs": [
    {
     "name": "stdout",
     "output_type": "stream",
     "text": [
      "121511\n"
     ]
    },
    {
     "data": {
      "image/png": "[encoded data removed]",
      "text/plain": [
       "<Figure size 842.4x595.44 with 1 Axes>"
      ]
     },
     "metadata": {},
     "output_type": "display_data"
    }
   ],
   "source": [
    "#Counting & Plotting data for ages between 18 to 70 as people under 18 cannot book a vacation and people above the age of 70 \n",
    "# are unlikely to go on one\n",
    "dfcv = data\n",
    "dfcv = dfcv[(dfcv.age != '')]\n",
    "dfcv = dfcv[(dfcv.age <= 70)]\n",
    "dfcv = dfcv[(dfcv.age >= 18)]\n",
    "dfcv.hist(column='age')\n",
    "print(len(dfcv))"
   ]
  },
  {
   "cell_type": "code",
   "execution_count": 7,
   "metadata": {},
   "outputs": [
    {
     "data": {
      "image/png": "[encoded data removed]",
      "text/plain": [
       "<Figure size 432x288 with 1 Axes>"
      ]
     },
     "metadata": {
      "needs_background": "light"
     },
     "output_type": "display_data"
    }
   ],
   "source": [
    "#Visualizing the data for all genders\n",
    "# Unknown gender seems to be leading the charts followed by females and males, Classic case of 'data not missing at random'.\n",
    "dfg = data\n",
    "dfg = data['gender'].value_counts().plot(kind='bar')"
   ]
  },
  {
   "cell_type": "code",
   "execution_count": 8,
   "metadata": {},
   "outputs": [],
   "source": [
    "import copy\n",
    "%matplotlib inline"
   ]
  },
  {
   "cell_type": "code",
   "execution_count": 9,
   "metadata": {},
   "outputs": [
    {
     "data": {
      "text/plain": [
       "<matplotlib.axes._subplots.AxesSubplot at 0x1c8bf4dcb00>"
      ]
     },
     "execution_count": 9,
     "metadata": {},
     "output_type": "execute_result"
    },
    {
     "data": {
      "image/png": "[encoded data removed]",
      "text/plain": [
       "<Figure size 504x432 with 1 Axes>"
      ]
     },
     "metadata": {
      "needs_background": "light"
     },
     "output_type": "display_data"
    }
   ],
   "source": [
    "#Comparing Gender versus Age group, we observed that the median age group is around 32 to 35 but are different distributions\n",
    "#Females, Males & Unknown have pointers which are 1.5 times the upper quartile\n",
    "#25% of data for Females & Males is greater than the age of 60 & 62 respectively while unknown & Other have an age of \n",
    "#63 & 65\n",
    "a = pd.read_csv('C:/Users/laks0/Documents/GitHub/Springboard/Capstone 1/train_users_2.csv', index_col=None)\n",
    "acd = a[['age', 'gender']]\n",
    "acd = acd[np.isfinite(acd['age'])]\n",
    "acd = acd[acd.age >= 18]\n",
    "acd = acd[acd.age <= 70]\n",
    "acd.boxplot('age', 'gender', figsize=(7,6))"
   ]
  },
  {
   "cell_type": "code",
   "execution_count": 10,
   "metadata": {},
   "outputs": [
    {
     "data": {
      "image/png": "[encoded data removed]",
      "text/plain": [
       "<Figure size 1600x960 with 1 Axes>"
      ]
     },
     "metadata": {},
     "output_type": "display_data"
    }
   ],
   "source": [
    "#Signup Method versus Country of destination\n",
    "#We observed that basic signup method was used for sign up for most of the countries \n",
    "%matplotlib inline\n",
    "import seaborn as sns\n",
    "import matplotlib.pyplot as plt\n",
    "from matplotlib.pyplot import figure\n",
    "figure(num=None, figsize=(20, 12), dpi=80, facecolor='w', edgecolor='k')\n",
    "scd = a[['signup_method', 'country_destination']]\n",
    "signup_count = scd['signup_method'].value_counts()\n",
    "country_count = scd['country_destination'].value_counts()\n",
    "sns.barplot(signup_count.index, signup_count.values)\n",
    "plt.title('Signup Method')\n",
    "plt.ylabel('Number of Occurrences-Signup', fontsize=12)\n",
    "plt.xlabel('CD', fontsize=12)\n",
    "plt.show()"
   ]
  },
  {
   "cell_type": "code",
   "execution_count": 11,
   "metadata": {},
   "outputs": [
    {
     "data": {
      "image/png": "[encoded data removed]",
      "text/plain": [
       "<Figure size 1600x960 with 1 Axes>"
      ]
     },
     "metadata": {},
     "output_type": "display_data"
    }
   ],
   "source": [
    "#Country of Destination versus age\n",
    "#We observed that most of the age group chose no destination followed by the US and other\n",
    "%matplotlib inline\n",
    "import seaborn as sns\n",
    "import matplotlib.pyplot as plt\n",
    "from matplotlib.pyplot import figure\n",
    "figure(num=None, figsize=(20, 12), dpi=80, facecolor='w', edgecolor='k')\n",
    "scd = a[['age', 'country_destination']]\n",
    "cd_count = scd['country_destination'].value_counts()\n",
    "age_count = scd['age'].value_counts()\n",
    "sns.barplot(cd_count.index, cd_count.values)\n",
    "plt.title('Signup Method')\n",
    "plt.ylabel('Number of Occurrences-Signup', fontsize=12)\n",
    "plt.xlabel('CD', fontsize=12)\n",
    "plt.show()"
   ]
  },
  {
   "cell_type": "code",
   "execution_count": 12,
   "metadata": {},
   "outputs": [
    {
     "data": {
      "text/html": [
       "<div>\n",
       "<style scoped>\n",
       "    .dataframe tbody tr th:only-of-type {\n",
       "        vertical-align: middle;\n",
       "    }\n",
       "\n",
       "    .dataframe tbody tr th {\n",
       "        vertical-align: top;\n",
       "    }\n",
       "\n",
       "    .dataframe thead th {\n",
       "        text-align: right;\n",
       "    }\n",
       "</style>\n",
       "<table border=\"1\" class=\"dataframe\">\n",
       "  <thead>\n",
       "    <tr style=\"text-align: right;\">\n",
       "      <th></th>\n",
       "      <th>age_bucket</th>\n",
       "      <th>country_destination</th>\n",
       "      <th>gender</th>\n",
       "      <th>population_in_thousands</th>\n",
       "      <th>year</th>\n",
       "    </tr>\n",
       "  </thead>\n",
       "  <tbody>\n",
       "    <tr>\n",
       "      <td>0</td>\n",
       "      <td>15-19</td>\n",
       "      <td>AU</td>\n",
       "      <td>male</td>\n",
       "      <td>768</td>\n",
       "      <td>2015</td>\n",
       "    </tr>\n",
       "    <tr>\n",
       "      <td>1</td>\n",
       "      <td>15-19</td>\n",
       "      <td>AU</td>\n",
       "      <td>female</td>\n",
       "      <td>737</td>\n",
       "      <td>2015</td>\n",
       "    </tr>\n",
       "    <tr>\n",
       "      <td>2</td>\n",
       "      <td>15-19</td>\n",
       "      <td>CA</td>\n",
       "      <td>male</td>\n",
       "      <td>1054</td>\n",
       "      <td>2015</td>\n",
       "    </tr>\n",
       "    <tr>\n",
       "      <td>3</td>\n",
       "      <td>15-19</td>\n",
       "      <td>CA</td>\n",
       "      <td>female</td>\n",
       "      <td>1009</td>\n",
       "      <td>2015</td>\n",
       "    </tr>\n",
       "    <tr>\n",
       "      <td>4</td>\n",
       "      <td>15-19</td>\n",
       "      <td>DE</td>\n",
       "      <td>male</td>\n",
       "      <td>2076</td>\n",
       "      <td>2015</td>\n",
       "    </tr>\n",
       "  </tbody>\n",
       "</table>\n",
       "</div>"
      ],
      "text/plain": [
       "  age_bucket country_destination  gender  population_in_thousands  year\n",
       "0      15-19                  AU    male                      768  2015\n",
       "1      15-19                  AU  female                      737  2015\n",
       "2      15-19                  CA    male                     1054  2015\n",
       "3      15-19                  CA  female                     1009  2015\n",
       "4      15-19                  DE    male                     2076  2015"
      ]
     },
     "execution_count": 12,
     "metadata": {},
     "output_type": "execute_result"
    }
   ],
   "source": [
    "age_b = pd.read_csv(r'C:\\Users\\laks0\\Documents\\GitHub\\Springboard\\Capstone 1\\age_bkts.csv')\n",
    "age_b.head()"
   ]
  },
  {
   "cell_type": "code",
   "execution_count": 13,
   "metadata": {},
   "outputs": [
    {
     "data": {
      "image/png": "[encoded data removed]",
      "text/plain": [
       "<Figure size 842.4x595.44 with 1 Axes>"
      ]
     },
     "metadata": {},
     "output_type": "display_data"
    }
   ],
   "source": [
    "#Plotting the no. of people based on age range, we can see that the age group of 20-24,25-29 & 50-54 have the highest no. of people\n",
    "# interested in going for a vacation\n",
    "sns.set(rc={'figure.figsize':(11.7,8.27)})\n",
    "agebplot = sns.swarmplot(x='age_bucket', y='population_in_thousands', data=age_b, size = 4)"
   ]
  },
  {
   "cell_type": "code",
   "execution_count": 14,
   "metadata": {},
   "outputs": [
    {
     "data": {
      "image/png": "[encoded data removed]",
      "text/plain": [
       "<Figure size 842.4x595.44 with 1 Axes>"
      ]
     },
     "metadata": {},
     "output_type": "display_data"
    }
   ],
   "source": [
    "#Plotting the countries most people are interested in going to for a vacation; US clearly is the winner here followed by \n",
    "# Denmark & Italy\n",
    "sns.set(rc={'figure.figsize':(11.7,8.27)})\n",
    "countryplot = sns.scatterplot(x='population_in_thousands', y='country_destination', data=age_b, size = 4)"
   ]
  },
  {
   "cell_type": "code",
   "execution_count": 15,
   "metadata": {},
   "outputs": [
    {
     "data": {
      "image/png": "[encoded data removed]",
      "text/plain": [
       "<Figure size 842.4x595.44 with 1 Axes>"
      ]
     },
     "metadata": {},
     "output_type": "display_data"
    }
   ],
   "source": [
    "#Plotting the gender vs time spent on the website, Female & Unknown genders seem to be spending most amount of time browsing\n",
    "sns.set(rc={'figure.figsize':(11.7,8.27)})\n",
    "timeplot = sns.scatterplot(x='secs_elapsed', y='gender', data=data, size = 4)"
   ]
  },
  {
   "cell_type": "code",
   "execution_count": 16,
   "metadata": {},
   "outputs": [
    {
     "name": "stdout",
     "output_type": "stream",
     "text": [
      "id                              0\n",
      "secs_elapsed               197951\n",
      "date_account_created            0\n",
      "timestamp_first_active          0\n",
      "date_first_booking         124543\n",
      "gender                          0\n",
      "age                         87990\n",
      "signup_method                   0\n",
      "signup_flow                     1\n",
      "language                        0\n",
      "affiliate_channel               0\n",
      "affiliate_provider              0\n",
      "first_affiliate_tracked      6065\n",
      "signup_app                      0\n",
      "first_device_type               0\n",
      "first_browser                   0\n",
      "country_destination             0\n",
      "dtype: int64\n",
      "213451\n"
     ]
    }
   ],
   "source": [
    "#Second check on missing values, only seconds elapsed seem to be high in number and could also be removed as a column\n",
    "#since it has 113k missing values out 121k total rows\n",
    "print(len(df) - df.count())\n",
    "print(len(df))"
   ]
  },
  {
   "cell_type": "code",
   "execution_count": 17,
   "metadata": {},
   "outputs": [
    {
     "data": {
      "text/html": [
       "<div>\n",
       "<style scoped>\n",
       "    .dataframe tbody tr th:only-of-type {\n",
       "        vertical-align: middle;\n",
       "    }\n",
       "\n",
       "    .dataframe tbody tr th {\n",
       "        vertical-align: top;\n",
       "    }\n",
       "\n",
       "    .dataframe thead th {\n",
       "        text-align: right;\n",
       "    }\n",
       "</style>\n",
       "<table border=\"1\" class=\"dataframe\">\n",
       "  <thead>\n",
       "    <tr style=\"text-align: right;\">\n",
       "      <th></th>\n",
       "      <th>id</th>\n",
       "      <th>date_account_created</th>\n",
       "      <th>timestamp_first_active</th>\n",
       "      <th>date_first_booking</th>\n",
       "      <th>gender</th>\n",
       "      <th>age</th>\n",
       "      <th>signup_method</th>\n",
       "      <th>signup_flow</th>\n",
       "      <th>language</th>\n",
       "      <th>affiliate_channel</th>\n",
       "      <th>affiliate_provider</th>\n",
       "      <th>signup_app</th>\n",
       "      <th>first_device_type</th>\n",
       "      <th>first_browser</th>\n",
       "      <th>country_destination</th>\n",
       "    </tr>\n",
       "  </thead>\n",
       "  <tbody>\n",
       "    <tr>\n",
       "      <td>1</td>\n",
       "      <td>820tgsjxq7</td>\n",
       "      <td>2011-05-25</td>\n",
       "      <td>2.010000e+13</td>\n",
       "      <td>NaN</td>\n",
       "      <td>MALE</td>\n",
       "      <td>38.0</td>\n",
       "      <td>facebook</td>\n",
       "      <td>0.0</td>\n",
       "      <td>en</td>\n",
       "      <td>seo</td>\n",
       "      <td>google</td>\n",
       "      <td>Web</td>\n",
       "      <td>Mac Desktop</td>\n",
       "      <td>Chrome</td>\n",
       "      <td>NDF</td>\n",
       "    </tr>\n",
       "    <tr>\n",
       "      <td>2</td>\n",
       "      <td>4ft3gnwmtx</td>\n",
       "      <td>2010-09-28</td>\n",
       "      <td>2.010000e+13</td>\n",
       "      <td>2010-08-02</td>\n",
       "      <td>FEMALE</td>\n",
       "      <td>56.0</td>\n",
       "      <td>basic</td>\n",
       "      <td>3.0</td>\n",
       "      <td>en</td>\n",
       "      <td>direct</td>\n",
       "      <td>direct</td>\n",
       "      <td>Web</td>\n",
       "      <td>Windows Desktop</td>\n",
       "      <td>IE</td>\n",
       "      <td>US</td>\n",
       "    </tr>\n",
       "    <tr>\n",
       "      <td>3</td>\n",
       "      <td>bjjt8pjhuk</td>\n",
       "      <td>2011-12-05</td>\n",
       "      <td>2.010000e+13</td>\n",
       "      <td>2012-09-08</td>\n",
       "      <td>FEMALE</td>\n",
       "      <td>42.0</td>\n",
       "      <td>facebook</td>\n",
       "      <td>0.0</td>\n",
       "      <td>en</td>\n",
       "      <td>direct</td>\n",
       "      <td>direct</td>\n",
       "      <td>Web</td>\n",
       "      <td>Mac Desktop</td>\n",
       "      <td>Firefox</td>\n",
       "      <td>other</td>\n",
       "    </tr>\n",
       "    <tr>\n",
       "      <td>4</td>\n",
       "      <td>87mebub9p4</td>\n",
       "      <td>2010-09-14</td>\n",
       "      <td>2.010000e+13</td>\n",
       "      <td>2010-02-18</td>\n",
       "      <td>-unknown-</td>\n",
       "      <td>41.0</td>\n",
       "      <td>basic</td>\n",
       "      <td>0.0</td>\n",
       "      <td>en</td>\n",
       "      <td>direct</td>\n",
       "      <td>direct</td>\n",
       "      <td>Web</td>\n",
       "      <td>Mac Desktop</td>\n",
       "      <td>Chrome</td>\n",
       "      <td>US</td>\n",
       "    </tr>\n",
       "    <tr>\n",
       "      <td>6</td>\n",
       "      <td>lsw9q7uk0j</td>\n",
       "      <td>2010-01-02</td>\n",
       "      <td>2.010000e+13</td>\n",
       "      <td>2010-01-05</td>\n",
       "      <td>FEMALE</td>\n",
       "      <td>46.0</td>\n",
       "      <td>basic</td>\n",
       "      <td>0.0</td>\n",
       "      <td>en</td>\n",
       "      <td>other</td>\n",
       "      <td>craigslist</td>\n",
       "      <td>Web</td>\n",
       "      <td>Mac Desktop</td>\n",
       "      <td>Safari</td>\n",
       "      <td>US</td>\n",
       "    </tr>\n",
       "  </tbody>\n",
       "</table>\n",
       "</div>"
      ],
      "text/plain": [
       "           id date_account_created  timestamp_first_active date_first_booking  \\\n",
       "1  820tgsjxq7           2011-05-25            2.010000e+13                NaN   \n",
       "2  4ft3gnwmtx           2010-09-28            2.010000e+13         2010-08-02   \n",
       "3  bjjt8pjhuk           2011-12-05            2.010000e+13         2012-09-08   \n",
       "4  87mebub9p4           2010-09-14            2.010000e+13         2010-02-18   \n",
       "6  lsw9q7uk0j           2010-01-02            2.010000e+13         2010-01-05   \n",
       "\n",
       "      gender   age signup_method  signup_flow language affiliate_channel  \\\n",
       "1       MALE  38.0      facebook          0.0       en               seo   \n",
       "2     FEMALE  56.0         basic          3.0       en            direct   \n",
       "3     FEMALE  42.0      facebook          0.0       en            direct   \n",
       "4  -unknown-  41.0         basic          0.0       en            direct   \n",
       "6     FEMALE  46.0         basic          0.0       en             other   \n",
       "\n",
       "  affiliate_provider signup_app first_device_type first_browser  \\\n",
       "1             google        Web       Mac Desktop        Chrome   \n",
       "2             direct        Web   Windows Desktop            IE   \n",
       "3             direct        Web       Mac Desktop       Firefox   \n",
       "4             direct        Web       Mac Desktop        Chrome   \n",
       "6         craigslist        Web       Mac Desktop        Safari   \n",
       "\n",
       "  country_destination  \n",
       "1                 NDF  \n",
       "2                  US  \n",
       "3               other  \n",
       "4                  US  \n",
       "6                  US  "
      ]
     },
     "execution_count": 17,
     "metadata": {},
     "output_type": "execute_result"
    }
   ],
   "source": [
    "#Dropping column name 'first_affiliate_tracked'as none of the data entries are relevant to what we intend to predict: Pls note \n",
    "# df includes people aged between 18 to 70 years only.#Second check on missing values, only seconds elapsed seem \n",
    "#to be high in number and could also be removed as a column, since it has 113k missing values out 121k total rows\n",
    "df = data\n",
    "df = df[(df.age != '')]\n",
    "df = df[(df.age <= 70)]\n",
    "df = df[(df.age >= 18)]\n",
    "df = df.drop(columns=['secs_elapsed', 'first_affiliate_tracked'])\n",
    "df.head()"
   ]
  },
  {
   "cell_type": "code",
   "execution_count": 18,
   "metadata": {},
   "outputs": [
    {
     "name": "stdout",
     "output_type": "stream",
     "text": [
      "47279\n",
      "825\n"
     ]
    }
   ],
   "source": [
    "#Generate a hypothesis based on avg age of people visiting the top two oreferred countries US & Denamrk\n",
    "#H0 = The avg age of people wanting to go to the US is approximately equal to the ones wanting to go to Denmark\n",
    "#H1= The avg age of people wanting to go to the US is not at all equal to the ones wanting to go to Denmark\n",
    "dfus = df[(df.country_destination == 'US')]\n",
    "dfne = df[(df.country_destination == 'DE')]\n",
    "dfus_age_m = np.mean(dfus['age'])\n",
    "dfne_age_m = np.mean(dfne['age'])\n",
    "dfus_age_sd = np.std(dfus['age'])\n",
    "dfne_age_sd = np.std(dfne['age'])\n",
    "print(len(dfus))\n",
    "print(len(dfne))"
   ]
  },
  {
   "cell_type": "code",
   "execution_count": 19,
   "metadata": {},
   "outputs": [
    {
     "data": {
      "text/plain": [
       "Ttest_indResult(statistic=-1.6026026763030288, pvalue=0.10931213166343735)"
      ]
     },
     "execution_count": 19,
     "metadata": {},
     "output_type": "execute_result"
    }
   ],
   "source": [
    "# Conducting a t test on two independent samples\n",
    "from scipy.stats import ttest_ind_from_stats\n",
    "ttest_ind_from_stats(mean1=dfus_age_m, std1=dfus_age_sd, nobs1=62376,\n",
    "                      mean2=dfne_age_m, std2=dfne_age_sd, nobs2=1061, equal_var = False)"
   ]
  },
  {
   "cell_type": "code",
   "execution_count": null,
   "metadata": {},
   "outputs": [],
   "source": [
    "#Based on the above p value of 10% we can clearly reject our null hypothesis which states that the avg age of people wanting\n",
    "#to go to the US is equal to the ones wanting to go to Denmark"
   ]
  },
  {
   "cell_type": "code",
   "execution_count": 20,
   "metadata": {},
   "outputs": [],
   "source": [
    "#Conducting an Anova test on age & signup method\n",
    "dffb = df[(df.signup_method == 'facebook')]\n",
    "dfbs = df[(df.signup_method == 'basic')]\n",
    "dfgl = df[(df.signup_method == 'google')]\n",
    "df1 = dffb['age']\n",
    "df2 = dfbs['age']\n",
    "df3 = dfgl['age']"
   ]
  },
  {
   "cell_type": "code",
   "execution_count": 21,
   "metadata": {},
   "outputs": [
    {
     "name": "stdout",
     "output_type": "stream",
     "text": [
      "df1\n",
      "count    56575.000000\n",
      "mean        35.405992\n",
      "std         10.187335\n",
      "min         18.000000\n",
      "25%         28.000000\n",
      "50%         33.000000\n",
      "75%         41.000000\n",
      "max         70.000000\n",
      "Name: age, dtype: float64\n",
      "df2\n",
      "count    64796.000000\n",
      "mean        36.659038\n",
      "std         11.206803\n",
      "min         18.000000\n",
      "25%         29.000000\n",
      "50%         34.000000\n",
      "75%         43.000000\n",
      "max         70.000000\n",
      "Name: age, dtype: float64\n",
      "df3\n",
      "count    140.000000\n",
      "mean      34.385714\n",
      "std       10.063529\n",
      "min       18.000000\n",
      "25%       27.000000\n",
      "50%       31.500000\n",
      "75%       39.000000\n",
      "max       63.000000\n",
      "Name: age, dtype: float64\n"
     ]
    }
   ],
   "source": [
    "print('df1')\n",
    "print(df1.describe())\n",
    "print('df2')\n",
    "print(df2.describe())\n",
    "print('df3')\n",
    "print(df3.describe())"
   ]
  },
  {
   "cell_type": "code",
   "execution_count": 22,
   "metadata": {},
   "outputs": [
    {
     "data": {
      "text/plain": [
       "((0.921214759349823, 0.0),\n",
       " (0.9317247867584229, 0.0),\n",
       " (0.9196103811264038, 4.3936680071965384e-07))"
      ]
     },
     "execution_count": 22,
     "metadata": {},
     "output_type": "execute_result"
    }
   ],
   "source": [
    "#H0= The signup method does not relate anyways to the age of the person\n",
    "#Test of normality/variance criteria:\n",
    "#The assumptions for implementing one way ANOVA include-\n",
    "#The normality criterion: each group compared should come from a population following the normal distribution.\n",
    "#The variance criterion (or 'homogeneity of variances'): samples should come from populations with the same variance.\n",
    "#Independent samples: performance (the dependent variable) in each sample should not be affected by the conditions\n",
    "#in other samples.\n",
    "import scipy.stats as stats\n",
    "# Shapiro-Wilk normality test \n",
    "stats.shapiro(df1), stats.shapiro(df2), stats.shapiro(df3)"
   ]
  },
  {
   "cell_type": "code",
   "execution_count": 29,
   "metadata": {},
   "outputs": [],
   "source": [
    "#Df3's p value is greater than threshold a = 0.05, therefore we \"fail to reject\" the null hypothesis \n",
    "#(conclusion: samples come from populations that follow normal distribution)."
   ]
  },
  {
   "cell_type": "code",
   "execution_count": 23,
   "metadata": {},
   "outputs": [
    {
     "data": {
      "text/plain": [
       "LeveneResult(statistic=220.13870719599072, pvalue=3.696295264023709e-96)"
      ]
     },
     "execution_count": 23,
     "metadata": {},
     "output_type": "execute_result"
    }
   ],
   "source": [
    "# Levene variance test  \n",
    "stats.levene(df1, df2, df3)"
   ]
  },
  {
   "cell_type": "code",
   "execution_count": 31,
   "metadata": {},
   "outputs": [],
   "source": [
    "#p value is lesser than threshold a = 0.05, therefore we reject the null hypothesis\n",
    "#(conclusion: samples come from populations with the different variance)"
   ]
  },
  {
   "cell_type": "code",
   "execution_count": 24,
   "metadata": {},
   "outputs": [
    {
     "name": "stdout",
     "output_type": "stream",
     "text": [
      "F statistic = 207.185 and probability p = 0.000\n"
     ]
    }
   ],
   "source": [
    "#Performing a one way ANOVA \n",
    "F, p = stats.f_oneway(df1, df2, df3)\n",
    "print('F statistic = {:5.3f} and probability p = {:5.3f}'.format(F, p))"
   ]
  },
  {
   "cell_type": "code",
   "execution_count": null,
   "metadata": {},
   "outputs": [],
   "source": [
    "#Interpretation of results:\n",
    "#As p < a (0.05) we state that we have a main interaction effect. This simply means that amongst group comparison\n",
    "#identifies statistically significant differences. However, this result does not identify the sample pair (or pairs)\n",
    "#which cause this significance.\n",
    "#So, when ANOVA reports 'interaction effect' we need to further identify the group pairs by applying pair-wise controls.\n",
    "#Although these controls could be done by implementing ordinary t-test (as demonstrated below)"
   ]
  },
  {
   "cell_type": "code",
   "execution_count": 25,
   "metadata": {},
   "outputs": [
    {
     "name": "stdout",
     "output_type": "stream",
     "text": [
      "df1 vs df2: -20.269560244804744 3.3837520203276997e-91\n",
      "df1 vs df2: 1.1835810452100621 0.23658390827855755\n",
      "df2 vs df3: 2.39808641287269 0.016483781257107855\n"
     ]
    }
   ],
   "source": [
    "# apply ttest_indep()\n",
    "t, p = stats.ttest_ind(df1, df2)\n",
    "print('df1 vs df2:', t, p)\n",
    "\n",
    "t, p = stats.ttest_ind(df1, df3)\n",
    "print('df1 vs df2:', t, p)\n",
    "\n",
    "t, p = stats.ttest_ind(df2, df3)\n",
    "print('df2 vs df3:', t, p)"
   ]
  },
  {
   "cell_type": "code",
   "execution_count": null,
   "metadata": {},
   "outputs": [],
   "source": [
    "#We can clearly see that the pairs df2 & 3(signup methods - basic & google) are the ones that cause the significant \n",
    "#differences.Please do note that applying a Tukey test would be more appropriate in this case than a t test for\n",
    "#better accurancy however it is out of scope for this project."
   ]
  },
  {
   "cell_type": "code",
   "execution_count": 26,
   "metadata": {},
   "outputs": [
    {
     "data": {
      "text/html": [
       "<div>\n",
       "<style scoped>\n",
       "    .dataframe tbody tr th:only-of-type {\n",
       "        vertical-align: middle;\n",
       "    }\n",
       "\n",
       "    .dataframe tbody tr th {\n",
       "        vertical-align: top;\n",
       "    }\n",
       "\n",
       "    .dataframe thead th {\n",
       "        text-align: right;\n",
       "    }\n",
       "</style>\n",
       "<table border=\"1\" class=\"dataframe\">\n",
       "  <thead>\n",
       "    <tr style=\"text-align: right;\">\n",
       "      <th>country_destination</th>\n",
       "      <th>AU</th>\n",
       "      <th>CA</th>\n",
       "      <th>DE</th>\n",
       "      <th>ES</th>\n",
       "      <th>FR</th>\n",
       "      <th>GB</th>\n",
       "      <th>IT</th>\n",
       "      <th>NDF</th>\n",
       "      <th>NL</th>\n",
       "      <th>PT</th>\n",
       "      <th>US</th>\n",
       "      <th>other</th>\n",
       "    </tr>\n",
       "    <tr>\n",
       "      <th>gender</th>\n",
       "      <th></th>\n",
       "      <th></th>\n",
       "      <th></th>\n",
       "      <th></th>\n",
       "      <th></th>\n",
       "      <th></th>\n",
       "      <th></th>\n",
       "      <th></th>\n",
       "      <th></th>\n",
       "      <th></th>\n",
       "      <th></th>\n",
       "      <th></th>\n",
       "    </tr>\n",
       "  </thead>\n",
       "  <tbody>\n",
       "    <tr>\n",
       "      <td>-unknown-</td>\n",
       "      <td>60</td>\n",
       "      <td>182</td>\n",
       "      <td>116</td>\n",
       "      <td>255</td>\n",
       "      <td>602</td>\n",
       "      <td>277</td>\n",
       "      <td>337</td>\n",
       "      <td>4503</td>\n",
       "      <td>96</td>\n",
       "      <td>22</td>\n",
       "      <td>8209</td>\n",
       "      <td>1269</td>\n",
       "    </tr>\n",
       "    <tr>\n",
       "      <td>FEMALE</td>\n",
       "      <td>192</td>\n",
       "      <td>417</td>\n",
       "      <td>322</td>\n",
       "      <td>792</td>\n",
       "      <td>1771</td>\n",
       "      <td>800</td>\n",
       "      <td>989</td>\n",
       "      <td>26765</td>\n",
       "      <td>224</td>\n",
       "      <td>68</td>\n",
       "      <td>20834</td>\n",
       "      <td>2864</td>\n",
       "    </tr>\n",
       "    <tr>\n",
       "      <td>MALE</td>\n",
       "      <td>170</td>\n",
       "      <td>444</td>\n",
       "      <td>384</td>\n",
       "      <td>611</td>\n",
       "      <td>1218</td>\n",
       "      <td>625</td>\n",
       "      <td>623</td>\n",
       "      <td>23618</td>\n",
       "      <td>257</td>\n",
       "      <td>63</td>\n",
       "      <td>18134</td>\n",
       "      <td>3177</td>\n",
       "    </tr>\n",
       "    <tr>\n",
       "      <td>OTHER</td>\n",
       "      <td>1</td>\n",
       "      <td>5</td>\n",
       "      <td>3</td>\n",
       "      <td>4</td>\n",
       "      <td>13</td>\n",
       "      <td>3</td>\n",
       "      <td>5</td>\n",
       "      <td>62</td>\n",
       "      <td>3</td>\n",
       "      <td>1</td>\n",
       "      <td>102</td>\n",
       "      <td>19</td>\n",
       "    </tr>\n",
       "  </tbody>\n",
       "</table>\n",
       "</div>"
      ],
      "text/plain": [
       "country_destination   AU   CA   DE   ES    FR   GB   IT    NDF   NL  PT  \\\n",
       "gender                                                                    \n",
       "-unknown-             60  182  116  255   602  277  337   4503   96  22   \n",
       "FEMALE               192  417  322  792  1771  800  989  26765  224  68   \n",
       "MALE                 170  444  384  611  1218  625  623  23618  257  63   \n",
       "OTHER                  1    5    3    4    13    3    5     62    3   1   \n",
       "\n",
       "country_destination     US  other  \n",
       "gender                             \n",
       "-unknown-             8209   1269  \n",
       "FEMALE               20834   2864  \n",
       "MALE                 18134   3177  \n",
       "OTHER                  102     19  "
      ]
     },
     "execution_count": 26,
     "metadata": {},
     "output_type": "execute_result"
    }
   ],
   "source": [
    "#Creating a contigency table for Chi Square test:\n",
    "#H0= We believe there is no relationship between gender and country of destination (are independent of each other)\n",
    "#H1 = These two variable are not independent of each other\n",
    "contingency_table = pd.crosstab(\n",
    "    df['gender'], df['country_destination'])\n",
    "contingency_table\n",
    "#Each cell in this table represents a frequency count. For example, the intersection of the 'Male' row \n",
    "#and the 'Canada' column of the table would represent how many males prefer going to Canada"
   ]
  },
  {
   "cell_type": "code",
   "execution_count": 27,
   "metadata": {},
   "outputs": [
    {
     "data": {
      "text/plain": [
       "(2397.333604573684, 0.0, 33)"
      ]
     },
     "execution_count": 27,
     "metadata": {},
     "output_type": "execute_result"
    }
   ],
   "source": [
    "from scipy import stats\n",
    "stats.chi2_contingency(contingency_table)[:3]\n",
    "#With a p-value < 0.05 , we reject the null hypothesis. There is a strong relationship between\n",
    "#'gender' and the 'country of destination' column, we can see that these two variables are not independent of each other."
   ]
  },
  {
   "cell_type": "code",
   "execution_count": 27,
   "metadata": {},
   "outputs": [
    {
     "data": {
      "text/html": [
       "<div>\n",
       "<style scoped>\n",
       "    .dataframe tbody tr th:only-of-type {\n",
       "        vertical-align: middle;\n",
       "    }\n",
       "\n",
       "    .dataframe tbody tr th {\n",
       "        vertical-align: top;\n",
       "    }\n",
       "\n",
       "    .dataframe thead th {\n",
       "        text-align: right;\n",
       "    }\n",
       "</style>\n",
       "<table border=\"1\" class=\"dataframe\">\n",
       "  <thead>\n",
       "    <tr style=\"text-align: right;\">\n",
       "      <th>country_destination</th>\n",
       "      <th>AU</th>\n",
       "      <th>CA</th>\n",
       "      <th>DE</th>\n",
       "      <th>ES</th>\n",
       "      <th>FR</th>\n",
       "      <th>GB</th>\n",
       "      <th>IT</th>\n",
       "      <th>NDF</th>\n",
       "      <th>NL</th>\n",
       "      <th>PT</th>\n",
       "      <th>US</th>\n",
       "      <th>other</th>\n",
       "    </tr>\n",
       "    <tr>\n",
       "      <th>signup_method</th>\n",
       "      <th></th>\n",
       "      <th></th>\n",
       "      <th></th>\n",
       "      <th></th>\n",
       "      <th></th>\n",
       "      <th></th>\n",
       "      <th></th>\n",
       "      <th></th>\n",
       "      <th></th>\n",
       "      <th></th>\n",
       "      <th></th>\n",
       "      <th></th>\n",
       "    </tr>\n",
       "  </thead>\n",
       "  <tbody>\n",
       "    <tr>\n",
       "      <td>basic</td>\n",
       "      <td>282</td>\n",
       "      <td>738</td>\n",
       "      <td>507</td>\n",
       "      <td>1038</td>\n",
       "      <td>2387</td>\n",
       "      <td>1127</td>\n",
       "      <td>1300</td>\n",
       "      <td>21293</td>\n",
       "      <td>386</td>\n",
       "      <td>91</td>\n",
       "      <td>30899</td>\n",
       "      <td>4748</td>\n",
       "    </tr>\n",
       "    <tr>\n",
       "      <td>facebook</td>\n",
       "      <td>141</td>\n",
       "      <td>309</td>\n",
       "      <td>317</td>\n",
       "      <td>623</td>\n",
       "      <td>1214</td>\n",
       "      <td>578</td>\n",
       "      <td>652</td>\n",
       "      <td>33598</td>\n",
       "      <td>194</td>\n",
       "      <td>62</td>\n",
       "      <td>16315</td>\n",
       "      <td>2572</td>\n",
       "    </tr>\n",
       "    <tr>\n",
       "      <td>google</td>\n",
       "      <td>0</td>\n",
       "      <td>1</td>\n",
       "      <td>1</td>\n",
       "      <td>1</td>\n",
       "      <td>3</td>\n",
       "      <td>0</td>\n",
       "      <td>2</td>\n",
       "      <td>57</td>\n",
       "      <td>0</td>\n",
       "      <td>1</td>\n",
       "      <td>65</td>\n",
       "      <td>9</td>\n",
       "    </tr>\n",
       "  </tbody>\n",
       "</table>\n",
       "</div>"
      ],
      "text/plain": [
       "country_destination   AU   CA   DE    ES    FR    GB    IT    NDF   NL  PT  \\\n",
       "signup_method                                                                \n",
       "basic                282  738  507  1038  2387  1127  1300  21293  386  91   \n",
       "facebook             141  309  317   623  1214   578   652  33598  194  62   \n",
       "google                 0    1    1     1     3     0     2     57    0   1   \n",
       "\n",
       "country_destination     US  other  \n",
       "signup_method                      \n",
       "basic                30899   4748  \n",
       "facebook             16315   2572  \n",
       "google                  65      9  "
      ]
     },
     "execution_count": 27,
     "metadata": {},
     "output_type": "execute_result"
    }
   ],
   "source": [
    "#Creating a contigency table for Chi Square test:\n",
    "#H0= We believe there is no relationship between signup method and country of destination (are independent of each other)\n",
    "#H1 = These two variable are not independent of each other\n",
    "contingency_table = pd.crosstab(\n",
    "    df['signup_method'], df['country_destination'])\n",
    "contingency_table\n",
    "#Each cell in this table represents a frequency count."
   ]
  },
  {
   "cell_type": "code",
   "execution_count": 28,
   "metadata": {},
   "outputs": [
    {
     "data": {
      "text/plain": [
       "(8616.825481629532, 0.0, 22)"
      ]
     },
     "execution_count": 28,
     "metadata": {},
     "output_type": "execute_result"
    }
   ],
   "source": [
    "from scipy import stats\n",
    "stats.chi2_contingency(contingency_table)[:3]\n",
    "#With a p-value < 0.05 , we reject the null hypothesis. There is a strong relationship between\n",
    "#'signup method' and the 'country of destination' column, we can see that these two variables are not \n",
    "#independent of each other."
   ]
  },
  {
   "cell_type": "code",
   "execution_count": 30,
   "metadata": {},
   "outputs": [
    {
     "data": {
      "text/html": [
       "<div>\n",
       "<style scoped>\n",
       "    .dataframe tbody tr th:only-of-type {\n",
       "        vertical-align: middle;\n",
       "    }\n",
       "\n",
       "    .dataframe tbody tr th {\n",
       "        vertical-align: top;\n",
       "    }\n",
       "\n",
       "    .dataframe thead th {\n",
       "        text-align: right;\n",
       "    }\n",
       "</style>\n",
       "<table border=\"1\" class=\"dataframe\">\n",
       "  <thead>\n",
       "    <tr style=\"text-align: right;\">\n",
       "      <th>country_destination</th>\n",
       "      <th>AU</th>\n",
       "      <th>CA</th>\n",
       "      <th>DE</th>\n",
       "      <th>ES</th>\n",
       "      <th>FR</th>\n",
       "      <th>GB</th>\n",
       "      <th>IT</th>\n",
       "      <th>NDF</th>\n",
       "      <th>NL</th>\n",
       "      <th>PT</th>\n",
       "      <th>US</th>\n",
       "      <th>other</th>\n",
       "    </tr>\n",
       "    <tr>\n",
       "      <th>language</th>\n",
       "      <th></th>\n",
       "      <th></th>\n",
       "      <th></th>\n",
       "      <th></th>\n",
       "      <th></th>\n",
       "      <th></th>\n",
       "      <th></th>\n",
       "      <th></th>\n",
       "      <th></th>\n",
       "      <th></th>\n",
       "      <th></th>\n",
       "      <th></th>\n",
       "    </tr>\n",
       "  </thead>\n",
       "  <tbody>\n",
       "    <tr>\n",
       "      <td>ca</td>\n",
       "      <td>0</td>\n",
       "      <td>0</td>\n",
       "      <td>0</td>\n",
       "      <td>0</td>\n",
       "      <td>0</td>\n",
       "      <td>0</td>\n",
       "      <td>0</td>\n",
       "      <td>2</td>\n",
       "      <td>0</td>\n",
       "      <td>0</td>\n",
       "      <td>2</td>\n",
       "      <td>0</td>\n",
       "    </tr>\n",
       "    <tr>\n",
       "      <td>cs</td>\n",
       "      <td>0</td>\n",
       "      <td>0</td>\n",
       "      <td>0</td>\n",
       "      <td>1</td>\n",
       "      <td>0</td>\n",
       "      <td>0</td>\n",
       "      <td>0</td>\n",
       "      <td>13</td>\n",
       "      <td>0</td>\n",
       "      <td>0</td>\n",
       "      <td>3</td>\n",
       "      <td>0</td>\n",
       "    </tr>\n",
       "    <tr>\n",
       "      <td>da</td>\n",
       "      <td>0</td>\n",
       "      <td>0</td>\n",
       "      <td>0</td>\n",
       "      <td>2</td>\n",
       "      <td>0</td>\n",
       "      <td>0</td>\n",
       "      <td>1</td>\n",
       "      <td>17</td>\n",
       "      <td>0</td>\n",
       "      <td>0</td>\n",
       "      <td>12</td>\n",
       "      <td>1</td>\n",
       "    </tr>\n",
       "    <tr>\n",
       "      <td>de</td>\n",
       "      <td>2</td>\n",
       "      <td>1</td>\n",
       "      <td>18</td>\n",
       "      <td>7</td>\n",
       "      <td>8</td>\n",
       "      <td>3</td>\n",
       "      <td>5</td>\n",
       "      <td>203</td>\n",
       "      <td>2</td>\n",
       "      <td>1</td>\n",
       "      <td>138</td>\n",
       "      <td>17</td>\n",
       "    </tr>\n",
       "    <tr>\n",
       "      <td>el</td>\n",
       "      <td>0</td>\n",
       "      <td>0</td>\n",
       "      <td>0</td>\n",
       "      <td>2</td>\n",
       "      <td>1</td>\n",
       "      <td>0</td>\n",
       "      <td>0</td>\n",
       "      <td>16</td>\n",
       "      <td>0</td>\n",
       "      <td>0</td>\n",
       "      <td>2</td>\n",
       "      <td>1</td>\n",
       "    </tr>\n",
       "    <tr>\n",
       "      <td>en</td>\n",
       "      <td>418</td>\n",
       "      <td>1037</td>\n",
       "      <td>789</td>\n",
       "      <td>1603</td>\n",
       "      <td>3506</td>\n",
       "      <td>1676</td>\n",
       "      <td>1903</td>\n",
       "      <td>52283</td>\n",
       "      <td>566</td>\n",
       "      <td>149</td>\n",
       "      <td>46081</td>\n",
       "      <td>7118</td>\n",
       "    </tr>\n",
       "    <tr>\n",
       "      <td>es</td>\n",
       "      <td>0</td>\n",
       "      <td>0</td>\n",
       "      <td>5</td>\n",
       "      <td>16</td>\n",
       "      <td>11</td>\n",
       "      <td>5</td>\n",
       "      <td>6</td>\n",
       "      <td>399</td>\n",
       "      <td>1</td>\n",
       "      <td>2</td>\n",
       "      <td>147</td>\n",
       "      <td>30</td>\n",
       "    </tr>\n",
       "    <tr>\n",
       "      <td>fi</td>\n",
       "      <td>0</td>\n",
       "      <td>0</td>\n",
       "      <td>0</td>\n",
       "      <td>0</td>\n",
       "      <td>1</td>\n",
       "      <td>0</td>\n",
       "      <td>0</td>\n",
       "      <td>5</td>\n",
       "      <td>0</td>\n",
       "      <td>0</td>\n",
       "      <td>4</td>\n",
       "      <td>1</td>\n",
       "    </tr>\n",
       "    <tr>\n",
       "      <td>fr</td>\n",
       "      <td>2</td>\n",
       "      <td>5</td>\n",
       "      <td>6</td>\n",
       "      <td>10</td>\n",
       "      <td>48</td>\n",
       "      <td>8</td>\n",
       "      <td>9</td>\n",
       "      <td>472</td>\n",
       "      <td>3</td>\n",
       "      <td>2</td>\n",
       "      <td>199</td>\n",
       "      <td>15</td>\n",
       "    </tr>\n",
       "    <tr>\n",
       "      <td>hr</td>\n",
       "      <td>0</td>\n",
       "      <td>0</td>\n",
       "      <td>0</td>\n",
       "      <td>0</td>\n",
       "      <td>0</td>\n",
       "      <td>0</td>\n",
       "      <td>0</td>\n",
       "      <td>2</td>\n",
       "      <td>0</td>\n",
       "      <td>0</td>\n",
       "      <td>0</td>\n",
       "      <td>0</td>\n",
       "    </tr>\n",
       "    <tr>\n",
       "      <td>hu</td>\n",
       "      <td>0</td>\n",
       "      <td>0</td>\n",
       "      <td>0</td>\n",
       "      <td>0</td>\n",
       "      <td>0</td>\n",
       "      <td>0</td>\n",
       "      <td>0</td>\n",
       "      <td>12</td>\n",
       "      <td>0</td>\n",
       "      <td>0</td>\n",
       "      <td>2</td>\n",
       "      <td>1</td>\n",
       "    </tr>\n",
       "    <tr>\n",
       "      <td>id</td>\n",
       "      <td>0</td>\n",
       "      <td>0</td>\n",
       "      <td>0</td>\n",
       "      <td>0</td>\n",
       "      <td>0</td>\n",
       "      <td>0</td>\n",
       "      <td>0</td>\n",
       "      <td>17</td>\n",
       "      <td>0</td>\n",
       "      <td>0</td>\n",
       "      <td>0</td>\n",
       "      <td>0</td>\n",
       "    </tr>\n",
       "    <tr>\n",
       "      <td>is</td>\n",
       "      <td>0</td>\n",
       "      <td>0</td>\n",
       "      <td>0</td>\n",
       "      <td>0</td>\n",
       "      <td>0</td>\n",
       "      <td>0</td>\n",
       "      <td>0</td>\n",
       "      <td>2</td>\n",
       "      <td>0</td>\n",
       "      <td>0</td>\n",
       "      <td>1</td>\n",
       "      <td>1</td>\n",
       "    </tr>\n",
       "    <tr>\n",
       "      <td>it</td>\n",
       "      <td>0</td>\n",
       "      <td>1</td>\n",
       "      <td>2</td>\n",
       "      <td>4</td>\n",
       "      <td>3</td>\n",
       "      <td>3</td>\n",
       "      <td>15</td>\n",
       "      <td>266</td>\n",
       "      <td>1</td>\n",
       "      <td>0</td>\n",
       "      <td>51</td>\n",
       "      <td>7</td>\n",
       "    </tr>\n",
       "    <tr>\n",
       "      <td>ja</td>\n",
       "      <td>0</td>\n",
       "      <td>1</td>\n",
       "      <td>0</td>\n",
       "      <td>1</td>\n",
       "      <td>3</td>\n",
       "      <td>2</td>\n",
       "      <td>1</td>\n",
       "      <td>67</td>\n",
       "      <td>0</td>\n",
       "      <td>0</td>\n",
       "      <td>44</td>\n",
       "      <td>9</td>\n",
       "    </tr>\n",
       "    <tr>\n",
       "      <td>ko</td>\n",
       "      <td>0</td>\n",
       "      <td>1</td>\n",
       "      <td>0</td>\n",
       "      <td>2</td>\n",
       "      <td>7</td>\n",
       "      <td>2</td>\n",
       "      <td>4</td>\n",
       "      <td>241</td>\n",
       "      <td>1</td>\n",
       "      <td>0</td>\n",
       "      <td>107</td>\n",
       "      <td>28</td>\n",
       "    </tr>\n",
       "    <tr>\n",
       "      <td>nl</td>\n",
       "      <td>0</td>\n",
       "      <td>0</td>\n",
       "      <td>2</td>\n",
       "      <td>0</td>\n",
       "      <td>2</td>\n",
       "      <td>0</td>\n",
       "      <td>1</td>\n",
       "      <td>27</td>\n",
       "      <td>3</td>\n",
       "      <td>0</td>\n",
       "      <td>15</td>\n",
       "      <td>3</td>\n",
       "    </tr>\n",
       "    <tr>\n",
       "      <td>no</td>\n",
       "      <td>0</td>\n",
       "      <td>0</td>\n",
       "      <td>0</td>\n",
       "      <td>0</td>\n",
       "      <td>0</td>\n",
       "      <td>2</td>\n",
       "      <td>0</td>\n",
       "      <td>8</td>\n",
       "      <td>0</td>\n",
       "      <td>0</td>\n",
       "      <td>9</td>\n",
       "      <td>1</td>\n",
       "    </tr>\n",
       "    <tr>\n",
       "      <td>pl</td>\n",
       "      <td>0</td>\n",
       "      <td>0</td>\n",
       "      <td>0</td>\n",
       "      <td>2</td>\n",
       "      <td>1</td>\n",
       "      <td>0</td>\n",
       "      <td>1</td>\n",
       "      <td>28</td>\n",
       "      <td>0</td>\n",
       "      <td>0</td>\n",
       "      <td>5</td>\n",
       "      <td>2</td>\n",
       "    </tr>\n",
       "    <tr>\n",
       "      <td>pt</td>\n",
       "      <td>0</td>\n",
       "      <td>0</td>\n",
       "      <td>0</td>\n",
       "      <td>1</td>\n",
       "      <td>0</td>\n",
       "      <td>0</td>\n",
       "      <td>0</td>\n",
       "      <td>114</td>\n",
       "      <td>1</td>\n",
       "      <td>0</td>\n",
       "      <td>37</td>\n",
       "      <td>15</td>\n",
       "    </tr>\n",
       "    <tr>\n",
       "      <td>ru</td>\n",
       "      <td>0</td>\n",
       "      <td>1</td>\n",
       "      <td>1</td>\n",
       "      <td>6</td>\n",
       "      <td>3</td>\n",
       "      <td>1</td>\n",
       "      <td>5</td>\n",
       "      <td>173</td>\n",
       "      <td>0</td>\n",
       "      <td>0</td>\n",
       "      <td>58</td>\n",
       "      <td>12</td>\n",
       "    </tr>\n",
       "    <tr>\n",
       "      <td>sv</td>\n",
       "      <td>0</td>\n",
       "      <td>0</td>\n",
       "      <td>0</td>\n",
       "      <td>2</td>\n",
       "      <td>0</td>\n",
       "      <td>0</td>\n",
       "      <td>0</td>\n",
       "      <td>43</td>\n",
       "      <td>2</td>\n",
       "      <td>0</td>\n",
       "      <td>25</td>\n",
       "      <td>6</td>\n",
       "    </tr>\n",
       "    <tr>\n",
       "      <td>th</td>\n",
       "      <td>0</td>\n",
       "      <td>0</td>\n",
       "      <td>0</td>\n",
       "      <td>0</td>\n",
       "      <td>0</td>\n",
       "      <td>0</td>\n",
       "      <td>0</td>\n",
       "      <td>15</td>\n",
       "      <td>0</td>\n",
       "      <td>0</td>\n",
       "      <td>2</td>\n",
       "      <td>0</td>\n",
       "    </tr>\n",
       "    <tr>\n",
       "      <td>tr</td>\n",
       "      <td>0</td>\n",
       "      <td>0</td>\n",
       "      <td>0</td>\n",
       "      <td>0</td>\n",
       "      <td>1</td>\n",
       "      <td>0</td>\n",
       "      <td>1</td>\n",
       "      <td>26</td>\n",
       "      <td>0</td>\n",
       "      <td>0</td>\n",
       "      <td>12</td>\n",
       "      <td>4</td>\n",
       "    </tr>\n",
       "    <tr>\n",
       "      <td>zh</td>\n",
       "      <td>1</td>\n",
       "      <td>1</td>\n",
       "      <td>2</td>\n",
       "      <td>3</td>\n",
       "      <td>9</td>\n",
       "      <td>3</td>\n",
       "      <td>2</td>\n",
       "      <td>497</td>\n",
       "      <td>0</td>\n",
       "      <td>0</td>\n",
       "      <td>323</td>\n",
       "      <td>57</td>\n",
       "    </tr>\n",
       "  </tbody>\n",
       "</table>\n",
       "</div>"
      ],
      "text/plain": [
       "country_destination   AU    CA   DE    ES    FR    GB    IT    NDF   NL   PT  \\\n",
       "language                                                                       \n",
       "ca                     0     0    0     0     0     0     0      2    0    0   \n",
       "cs                     0     0    0     1     0     0     0     13    0    0   \n",
       "da                     0     0    0     2     0     0     1     17    0    0   \n",
       "de                     2     1   18     7     8     3     5    203    2    1   \n",
       "el                     0     0    0     2     1     0     0     16    0    0   \n",
       "en                   418  1037  789  1603  3506  1676  1903  52283  566  149   \n",
       "es                     0     0    5    16    11     5     6    399    1    2   \n",
       "fi                     0     0    0     0     1     0     0      5    0    0   \n",
       "fr                     2     5    6    10    48     8     9    472    3    2   \n",
       "hr                     0     0    0     0     0     0     0      2    0    0   \n",
       "hu                     0     0    0     0     0     0     0     12    0    0   \n",
       "id                     0     0    0     0     0     0     0     17    0    0   \n",
       "is                     0     0    0     0     0     0     0      2    0    0   \n",
       "it                     0     1    2     4     3     3    15    266    1    0   \n",
       "ja                     0     1    0     1     3     2     1     67    0    0   \n",
       "ko                     0     1    0     2     7     2     4    241    1    0   \n",
       "nl                     0     0    2     0     2     0     1     27    3    0   \n",
       "no                     0     0    0     0     0     2     0      8    0    0   \n",
       "pl                     0     0    0     2     1     0     1     28    0    0   \n",
       "pt                     0     0    0     1     0     0     0    114    1    0   \n",
       "ru                     0     1    1     6     3     1     5    173    0    0   \n",
       "sv                     0     0    0     2     0     0     0     43    2    0   \n",
       "th                     0     0    0     0     0     0     0     15    0    0   \n",
       "tr                     0     0    0     0     1     0     1     26    0    0   \n",
       "zh                     1     1    2     3     9     3     2    497    0    0   \n",
       "\n",
       "country_destination     US  other  \n",
       "language                           \n",
       "ca                       2      0  \n",
       "cs                       3      0  \n",
       "da                      12      1  \n",
       "de                     138     17  \n",
       "el                       2      1  \n",
       "en                   46081   7118  \n",
       "es                     147     30  \n",
       "fi                       4      1  \n",
       "fr                     199     15  \n",
       "hr                       0      0  \n",
       "hu                       2      1  \n",
       "id                       0      0  \n",
       "is                       1      1  \n",
       "it                      51      7  \n",
       "ja                      44      9  \n",
       "ko                     107     28  \n",
       "nl                      15      3  \n",
       "no                       9      1  \n",
       "pl                       5      2  \n",
       "pt                      37     15  \n",
       "ru                      58     12  \n",
       "sv                      25      6  \n",
       "th                       2      0  \n",
       "tr                      12      4  \n",
       "zh                     323     57  "
      ]
     },
     "execution_count": 30,
     "metadata": {},
     "output_type": "execute_result"
    }
   ],
   "source": [
    "#Creating a contigency table for Chi Square test:\n",
    "#H0= We believe there is no relationship between language and country of destination (are independent of each other)\n",
    "#H1 = These two variable are not independent of each other\n",
    "contingency_table = pd.crosstab(\n",
    "    df['language'], df['country_destination'])\n",
    "contingency_table\n",
    "#Each cell in this table represents a frequency count."
   ]
  },
  {
   "cell_type": "code",
   "execution_count": 31,
   "metadata": {},
   "outputs": [
    {
     "data": {
      "text/plain": [
       "(934.9181734684701, 8.626988945685242e-76, 264)"
      ]
     },
     "execution_count": 31,
     "metadata": {},
     "output_type": "execute_result"
    }
   ],
   "source": [
    "from scipy import stats\n",
    "stats.chi2_contingency(contingency_table)[:3]\n",
    "#With a p-value < 0.05 , we reject the null hypothesis. There is clear visible relationship between\n",
    "#'language' and the 'country of destination' column, we can see that these two variables are \n",
    "#independent of each other."
   ]
  },
  {
   "cell_type": "code",
   "execution_count": 32,
   "metadata": {},
   "outputs": [
    {
     "data": {
      "text/html": [
       "<div>\n",
       "<style scoped>\n",
       "    .dataframe tbody tr th:only-of-type {\n",
       "        vertical-align: middle;\n",
       "    }\n",
       "\n",
       "    .dataframe tbody tr th {\n",
       "        vertical-align: top;\n",
       "    }\n",
       "\n",
       "    .dataframe thead th {\n",
       "        text-align: right;\n",
       "    }\n",
       "</style>\n",
       "<table border=\"1\" class=\"dataframe\">\n",
       "  <thead>\n",
       "    <tr style=\"text-align: right;\">\n",
       "      <th>country_destination</th>\n",
       "      <th>AU</th>\n",
       "      <th>CA</th>\n",
       "      <th>DE</th>\n",
       "      <th>ES</th>\n",
       "      <th>FR</th>\n",
       "      <th>GB</th>\n",
       "      <th>IT</th>\n",
       "      <th>NDF</th>\n",
       "      <th>NL</th>\n",
       "      <th>PT</th>\n",
       "      <th>US</th>\n",
       "      <th>other</th>\n",
       "    </tr>\n",
       "    <tr>\n",
       "      <th>affiliate_provider</th>\n",
       "      <th></th>\n",
       "      <th></th>\n",
       "      <th></th>\n",
       "      <th></th>\n",
       "      <th></th>\n",
       "      <th></th>\n",
       "      <th></th>\n",
       "      <th></th>\n",
       "      <th></th>\n",
       "      <th></th>\n",
       "      <th></th>\n",
       "      <th></th>\n",
       "    </tr>\n",
       "  </thead>\n",
       "  <tbody>\n",
       "    <tr>\n",
       "      <td>baidu</td>\n",
       "      <td>0</td>\n",
       "      <td>0</td>\n",
       "      <td>0</td>\n",
       "      <td>0</td>\n",
       "      <td>1</td>\n",
       "      <td>0</td>\n",
       "      <td>0</td>\n",
       "      <td>7</td>\n",
       "      <td>0</td>\n",
       "      <td>0</td>\n",
       "      <td>5</td>\n",
       "      <td>2</td>\n",
       "    </tr>\n",
       "    <tr>\n",
       "      <td>bing</td>\n",
       "      <td>3</td>\n",
       "      <td>10</td>\n",
       "      <td>11</td>\n",
       "      <td>14</td>\n",
       "      <td>28</td>\n",
       "      <td>9</td>\n",
       "      <td>20</td>\n",
       "      <td>586</td>\n",
       "      <td>5</td>\n",
       "      <td>4</td>\n",
       "      <td>371</td>\n",
       "      <td>69</td>\n",
       "    </tr>\n",
       "    <tr>\n",
       "      <td>craigslist</td>\n",
       "      <td>2</td>\n",
       "      <td>26</td>\n",
       "      <td>15</td>\n",
       "      <td>8</td>\n",
       "      <td>44</td>\n",
       "      <td>16</td>\n",
       "      <td>19</td>\n",
       "      <td>1048</td>\n",
       "      <td>5</td>\n",
       "      <td>1</td>\n",
       "      <td>964</td>\n",
       "      <td>41</td>\n",
       "    </tr>\n",
       "    <tr>\n",
       "      <td>direct</td>\n",
       "      <td>298</td>\n",
       "      <td>705</td>\n",
       "      <td>539</td>\n",
       "      <td>1141</td>\n",
       "      <td>2393</td>\n",
       "      <td>1159</td>\n",
       "      <td>1300</td>\n",
       "      <td>33425</td>\n",
       "      <td>371</td>\n",
       "      <td>98</td>\n",
       "      <td>31752</td>\n",
       "      <td>4910</td>\n",
       "    </tr>\n",
       "    <tr>\n",
       "      <td>email-marketing</td>\n",
       "      <td>0</td>\n",
       "      <td>0</td>\n",
       "      <td>0</td>\n",
       "      <td>0</td>\n",
       "      <td>0</td>\n",
       "      <td>1</td>\n",
       "      <td>1</td>\n",
       "      <td>47</td>\n",
       "      <td>1</td>\n",
       "      <td>0</td>\n",
       "      <td>21</td>\n",
       "      <td>6</td>\n",
       "    </tr>\n",
       "    <tr>\n",
       "      <td>facebook</td>\n",
       "      <td>2</td>\n",
       "      <td>9</td>\n",
       "      <td>15</td>\n",
       "      <td>25</td>\n",
       "      <td>39</td>\n",
       "      <td>24</td>\n",
       "      <td>24</td>\n",
       "      <td>943</td>\n",
       "      <td>9</td>\n",
       "      <td>2</td>\n",
       "      <td>411</td>\n",
       "      <td>86</td>\n",
       "    </tr>\n",
       "    <tr>\n",
       "      <td>facebook-open-graph</td>\n",
       "      <td>1</td>\n",
       "      <td>4</td>\n",
       "      <td>2</td>\n",
       "      <td>2</td>\n",
       "      <td>10</td>\n",
       "      <td>3</td>\n",
       "      <td>3</td>\n",
       "      <td>273</td>\n",
       "      <td>2</td>\n",
       "      <td>1</td>\n",
       "      <td>81</td>\n",
       "      <td>13</td>\n",
       "    </tr>\n",
       "    <tr>\n",
       "      <td>google</td>\n",
       "      <td>95</td>\n",
       "      <td>244</td>\n",
       "      <td>210</td>\n",
       "      <td>395</td>\n",
       "      <td>944</td>\n",
       "      <td>420</td>\n",
       "      <td>512</td>\n",
       "      <td>13393</td>\n",
       "      <td>161</td>\n",
       "      <td>44</td>\n",
       "      <td>10375</td>\n",
       "      <td>1736</td>\n",
       "    </tr>\n",
       "    <tr>\n",
       "      <td>gsp</td>\n",
       "      <td>1</td>\n",
       "      <td>0</td>\n",
       "      <td>0</td>\n",
       "      <td>0</td>\n",
       "      <td>1</td>\n",
       "      <td>0</td>\n",
       "      <td>1</td>\n",
       "      <td>143</td>\n",
       "      <td>0</td>\n",
       "      <td>0</td>\n",
       "      <td>23</td>\n",
       "      <td>7</td>\n",
       "    </tr>\n",
       "    <tr>\n",
       "      <td>meetup</td>\n",
       "      <td>0</td>\n",
       "      <td>0</td>\n",
       "      <td>0</td>\n",
       "      <td>0</td>\n",
       "      <td>1</td>\n",
       "      <td>1</td>\n",
       "      <td>3</td>\n",
       "      <td>94</td>\n",
       "      <td>1</td>\n",
       "      <td>0</td>\n",
       "      <td>31</td>\n",
       "      <td>5</td>\n",
       "    </tr>\n",
       "    <tr>\n",
       "      <td>naver</td>\n",
       "      <td>0</td>\n",
       "      <td>0</td>\n",
       "      <td>0</td>\n",
       "      <td>0</td>\n",
       "      <td>0</td>\n",
       "      <td>0</td>\n",
       "      <td>1</td>\n",
       "      <td>15</td>\n",
       "      <td>0</td>\n",
       "      <td>0</td>\n",
       "      <td>6</td>\n",
       "      <td>4</td>\n",
       "    </tr>\n",
       "    <tr>\n",
       "      <td>other</td>\n",
       "      <td>19</td>\n",
       "      <td>43</td>\n",
       "      <td>28</td>\n",
       "      <td>72</td>\n",
       "      <td>121</td>\n",
       "      <td>64</td>\n",
       "      <td>63</td>\n",
       "      <td>4392</td>\n",
       "      <td>24</td>\n",
       "      <td>4</td>\n",
       "      <td>2864</td>\n",
       "      <td>382</td>\n",
       "    </tr>\n",
       "    <tr>\n",
       "      <td>padmapper</td>\n",
       "      <td>0</td>\n",
       "      <td>4</td>\n",
       "      <td>1</td>\n",
       "      <td>1</td>\n",
       "      <td>3</td>\n",
       "      <td>4</td>\n",
       "      <td>1</td>\n",
       "      <td>244</td>\n",
       "      <td>0</td>\n",
       "      <td>0</td>\n",
       "      <td>177</td>\n",
       "      <td>17</td>\n",
       "    </tr>\n",
       "    <tr>\n",
       "      <td>vast</td>\n",
       "      <td>2</td>\n",
       "      <td>3</td>\n",
       "      <td>2</td>\n",
       "      <td>2</td>\n",
       "      <td>7</td>\n",
       "      <td>2</td>\n",
       "      <td>3</td>\n",
       "      <td>195</td>\n",
       "      <td>1</td>\n",
       "      <td>0</td>\n",
       "      <td>120</td>\n",
       "      <td>36</td>\n",
       "    </tr>\n",
       "    <tr>\n",
       "      <td>wayn</td>\n",
       "      <td>0</td>\n",
       "      <td>0</td>\n",
       "      <td>0</td>\n",
       "      <td>0</td>\n",
       "      <td>0</td>\n",
       "      <td>0</td>\n",
       "      <td>0</td>\n",
       "      <td>2</td>\n",
       "      <td>0</td>\n",
       "      <td>0</td>\n",
       "      <td>0</td>\n",
       "      <td>0</td>\n",
       "    </tr>\n",
       "    <tr>\n",
       "      <td>yahoo</td>\n",
       "      <td>0</td>\n",
       "      <td>0</td>\n",
       "      <td>2</td>\n",
       "      <td>2</td>\n",
       "      <td>12</td>\n",
       "      <td>2</td>\n",
       "      <td>3</td>\n",
       "      <td>131</td>\n",
       "      <td>0</td>\n",
       "      <td>0</td>\n",
       "      <td>74</td>\n",
       "      <td>15</td>\n",
       "    </tr>\n",
       "    <tr>\n",
       "      <td>yandex</td>\n",
       "      <td>0</td>\n",
       "      <td>0</td>\n",
       "      <td>0</td>\n",
       "      <td>0</td>\n",
       "      <td>0</td>\n",
       "      <td>0</td>\n",
       "      <td>0</td>\n",
       "      <td>10</td>\n",
       "      <td>0</td>\n",
       "      <td>0</td>\n",
       "      <td>4</td>\n",
       "      <td>0</td>\n",
       "    </tr>\n",
       "  </tbody>\n",
       "</table>\n",
       "</div>"
      ],
      "text/plain": [
       "country_destination   AU   CA   DE    ES    FR    GB    IT    NDF   NL  PT  \\\n",
       "affiliate_provider                                                           \n",
       "baidu                  0    0    0     0     1     0     0      7    0   0   \n",
       "bing                   3   10   11    14    28     9    20    586    5   4   \n",
       "craigslist             2   26   15     8    44    16    19   1048    5   1   \n",
       "direct               298  705  539  1141  2393  1159  1300  33425  371  98   \n",
       "email-marketing        0    0    0     0     0     1     1     47    1   0   \n",
       "facebook               2    9   15    25    39    24    24    943    9   2   \n",
       "facebook-open-graph    1    4    2     2    10     3     3    273    2   1   \n",
       "google                95  244  210   395   944   420   512  13393  161  44   \n",
       "gsp                    1    0    0     0     1     0     1    143    0   0   \n",
       "meetup                 0    0    0     0     1     1     3     94    1   0   \n",
       "naver                  0    0    0     0     0     0     1     15    0   0   \n",
       "other                 19   43   28    72   121    64    63   4392   24   4   \n",
       "padmapper              0    4    1     1     3     4     1    244    0   0   \n",
       "vast                   2    3    2     2     7     2     3    195    1   0   \n",
       "wayn                   0    0    0     0     0     0     0      2    0   0   \n",
       "yahoo                  0    0    2     2    12     2     3    131    0   0   \n",
       "yandex                 0    0    0     0     0     0     0     10    0   0   \n",
       "\n",
       "country_destination     US  other  \n",
       "affiliate_provider                 \n",
       "baidu                    5      2  \n",
       "bing                   371     69  \n",
       "craigslist             964     41  \n",
       "direct               31752   4910  \n",
       "email-marketing         21      6  \n",
       "facebook               411     86  \n",
       "facebook-open-graph     81     13  \n",
       "google               10375   1736  \n",
       "gsp                     23      7  \n",
       "meetup                  31      5  \n",
       "naver                    6      4  \n",
       "other                 2864    382  \n",
       "padmapper              177     17  \n",
       "vast                   120     36  \n",
       "wayn                     0      0  \n",
       "yahoo                   74     15  \n",
       "yandex                   4      0  "
      ]
     },
     "execution_count": 32,
     "metadata": {},
     "output_type": "execute_result"
    }
   ],
   "source": [
    "#Creating a contigency table for Chi Square test:\n",
    "#H0= We believe there is a relationship between affiliate provider and country of destination \n",
    "#(are independent of each other)\n",
    "#H1 = These two variable are independent of each other\n",
    "contingency_table = pd.crosstab(\n",
    "    df['affiliate_provider'], df['country_destination'])\n",
    "contingency_table\n",
    "#Each cell in this table represents a frequency count."
   ]
  },
  {
   "cell_type": "code",
   "execution_count": 33,
   "metadata": {},
   "outputs": [
    {
     "data": {
      "text/plain": [
       "(1288.6116440778364, 2.049285268511125e-168, 176)"
      ]
     },
     "execution_count": 33,
     "metadata": {},
     "output_type": "execute_result"
    }
   ],
   "source": [
    "from scipy import stats\n",
    "stats.chi2_contingency(contingency_table)[:3]\n",
    "#With a p-value > 0.05 , we fail to reject the null hypothesis. There is no visible relationship between\n",
    "#'affiliate provider' and the 'country of destination' column, we can see that these two variables are \n",
    "#independent of each other."
   ]
  },
  {
   "cell_type": "code",
   "execution_count": 34,
   "metadata": {},
   "outputs": [
    {
     "data": {
      "text/html": [
       "<div>\n",
       "<style scoped>\n",
       "    .dataframe tbody tr th:only-of-type {\n",
       "        vertical-align: middle;\n",
       "    }\n",
       "\n",
       "    .dataframe tbody tr th {\n",
       "        vertical-align: top;\n",
       "    }\n",
       "\n",
       "    .dataframe thead th {\n",
       "        text-align: right;\n",
       "    }\n",
       "</style>\n",
       "<table border=\"1\" class=\"dataframe\">\n",
       "  <thead>\n",
       "    <tr style=\"text-align: right;\">\n",
       "      <th>country_destination</th>\n",
       "      <th>AU</th>\n",
       "      <th>CA</th>\n",
       "      <th>DE</th>\n",
       "      <th>ES</th>\n",
       "      <th>FR</th>\n",
       "      <th>GB</th>\n",
       "      <th>IT</th>\n",
       "      <th>NDF</th>\n",
       "      <th>NL</th>\n",
       "      <th>PT</th>\n",
       "      <th>US</th>\n",
       "      <th>other</th>\n",
       "    </tr>\n",
       "    <tr>\n",
       "      <th>date_account_created</th>\n",
       "      <th></th>\n",
       "      <th></th>\n",
       "      <th></th>\n",
       "      <th></th>\n",
       "      <th></th>\n",
       "      <th></th>\n",
       "      <th></th>\n",
       "      <th></th>\n",
       "      <th></th>\n",
       "      <th></th>\n",
       "      <th></th>\n",
       "      <th></th>\n",
       "    </tr>\n",
       "  </thead>\n",
       "  <tbody>\n",
       "    <tr>\n",
       "      <td>2010-01-02</td>\n",
       "      <td>0</td>\n",
       "      <td>0</td>\n",
       "      <td>0</td>\n",
       "      <td>0</td>\n",
       "      <td>0</td>\n",
       "      <td>0</td>\n",
       "      <td>0</td>\n",
       "      <td>0</td>\n",
       "      <td>0</td>\n",
       "      <td>0</td>\n",
       "      <td>1</td>\n",
       "      <td>0</td>\n",
       "    </tr>\n",
       "    <tr>\n",
       "      <td>2010-01-03</td>\n",
       "      <td>0</td>\n",
       "      <td>0</td>\n",
       "      <td>0</td>\n",
       "      <td>0</td>\n",
       "      <td>0</td>\n",
       "      <td>0</td>\n",
       "      <td>0</td>\n",
       "      <td>0</td>\n",
       "      <td>0</td>\n",
       "      <td>0</td>\n",
       "      <td>1</td>\n",
       "      <td>0</td>\n",
       "    </tr>\n",
       "    <tr>\n",
       "      <td>2010-01-04</td>\n",
       "      <td>0</td>\n",
       "      <td>0</td>\n",
       "      <td>0</td>\n",
       "      <td>0</td>\n",
       "      <td>0</td>\n",
       "      <td>0</td>\n",
       "      <td>0</td>\n",
       "      <td>0</td>\n",
       "      <td>0</td>\n",
       "      <td>0</td>\n",
       "      <td>3</td>\n",
       "      <td>0</td>\n",
       "    </tr>\n",
       "    <tr>\n",
       "      <td>2010-01-05</td>\n",
       "      <td>0</td>\n",
       "      <td>0</td>\n",
       "      <td>0</td>\n",
       "      <td>0</td>\n",
       "      <td>0</td>\n",
       "      <td>0</td>\n",
       "      <td>0</td>\n",
       "      <td>2</td>\n",
       "      <td>0</td>\n",
       "      <td>0</td>\n",
       "      <td>0</td>\n",
       "      <td>0</td>\n",
       "    </tr>\n",
       "    <tr>\n",
       "      <td>2010-01-07</td>\n",
       "      <td>0</td>\n",
       "      <td>1</td>\n",
       "      <td>0</td>\n",
       "      <td>0</td>\n",
       "      <td>0</td>\n",
       "      <td>0</td>\n",
       "      <td>0</td>\n",
       "      <td>1</td>\n",
       "      <td>0</td>\n",
       "      <td>0</td>\n",
       "      <td>1</td>\n",
       "      <td>0</td>\n",
       "    </tr>\n",
       "    <tr>\n",
       "      <td>...</td>\n",
       "      <td>...</td>\n",
       "      <td>...</td>\n",
       "      <td>...</td>\n",
       "      <td>...</td>\n",
       "      <td>...</td>\n",
       "      <td>...</td>\n",
       "      <td>...</td>\n",
       "      <td>...</td>\n",
       "      <td>...</td>\n",
       "      <td>...</td>\n",
       "      <td>...</td>\n",
       "      <td>...</td>\n",
       "    </tr>\n",
       "    <tr>\n",
       "      <td>2014-06-26</td>\n",
       "      <td>2</td>\n",
       "      <td>3</td>\n",
       "      <td>1</td>\n",
       "      <td>4</td>\n",
       "      <td>4</td>\n",
       "      <td>2</td>\n",
       "      <td>4</td>\n",
       "      <td>156</td>\n",
       "      <td>1</td>\n",
       "      <td>0</td>\n",
       "      <td>99</td>\n",
       "      <td>17</td>\n",
       "    </tr>\n",
       "    <tr>\n",
       "      <td>2014-06-27</td>\n",
       "      <td>0</td>\n",
       "      <td>2</td>\n",
       "      <td>1</td>\n",
       "      <td>3</td>\n",
       "      <td>12</td>\n",
       "      <td>1</td>\n",
       "      <td>4</td>\n",
       "      <td>159</td>\n",
       "      <td>3</td>\n",
       "      <td>0</td>\n",
       "      <td>114</td>\n",
       "      <td>14</td>\n",
       "    </tr>\n",
       "    <tr>\n",
       "      <td>2014-06-28</td>\n",
       "      <td>0</td>\n",
       "      <td>3</td>\n",
       "      <td>1</td>\n",
       "      <td>3</td>\n",
       "      <td>9</td>\n",
       "      <td>5</td>\n",
       "      <td>5</td>\n",
       "      <td>120</td>\n",
       "      <td>1</td>\n",
       "      <td>0</td>\n",
       "      <td>97</td>\n",
       "      <td>8</td>\n",
       "    </tr>\n",
       "    <tr>\n",
       "      <td>2014-06-29</td>\n",
       "      <td>0</td>\n",
       "      <td>3</td>\n",
       "      <td>1</td>\n",
       "      <td>1</td>\n",
       "      <td>7</td>\n",
       "      <td>4</td>\n",
       "      <td>5</td>\n",
       "      <td>129</td>\n",
       "      <td>1</td>\n",
       "      <td>0</td>\n",
       "      <td>92</td>\n",
       "      <td>14</td>\n",
       "    </tr>\n",
       "    <tr>\n",
       "      <td>2014-06-30</td>\n",
       "      <td>3</td>\n",
       "      <td>3</td>\n",
       "      <td>3</td>\n",
       "      <td>4</td>\n",
       "      <td>9</td>\n",
       "      <td>5</td>\n",
       "      <td>8</td>\n",
       "      <td>135</td>\n",
       "      <td>4</td>\n",
       "      <td>0</td>\n",
       "      <td>118</td>\n",
       "      <td>14</td>\n",
       "    </tr>\n",
       "  </tbody>\n",
       "</table>\n",
       "<p>1622 rows × 12 columns</p>\n",
       "</div>"
      ],
      "text/plain": [
       "country_destination   AU  CA  DE  ES  FR  GB  IT  NDF  NL  PT   US  other\n",
       "date_account_created                                                     \n",
       "2010-01-02             0   0   0   0   0   0   0    0   0   0    1      0\n",
       "2010-01-03             0   0   0   0   0   0   0    0   0   0    1      0\n",
       "2010-01-04             0   0   0   0   0   0   0    0   0   0    3      0\n",
       "2010-01-05             0   0   0   0   0   0   0    2   0   0    0      0\n",
       "2010-01-07             0   1   0   0   0   0   0    1   0   0    1      0\n",
       "...                   ..  ..  ..  ..  ..  ..  ..  ...  ..  ..  ...    ...\n",
       "2014-06-26             2   3   1   4   4   2   4  156   1   0   99     17\n",
       "2014-06-27             0   2   1   3  12   1   4  159   3   0  114     14\n",
       "2014-06-28             0   3   1   3   9   5   5  120   1   0   97      8\n",
       "2014-06-29             0   3   1   1   7   4   5  129   1   0   92     14\n",
       "2014-06-30             3   3   3   4   9   5   8  135   4   0  118     14\n",
       "\n",
       "[1622 rows x 12 columns]"
      ]
     },
     "execution_count": 34,
     "metadata": {},
     "output_type": "execute_result"
    }
   ],
   "source": [
    "#Creating a contigency table for Chi Square test:\n",
    "#H0= We believe there is a relationship between date account was created and country of destination \n",
    "#(are independent of each other)\n",
    "#H1 = These two variable are independent of each other\n",
    "contingency_table = pd.crosstab(\n",
    "    df['date_account_created'], df['country_destination'])\n",
    "contingency_table\n",
    "#Each cell in this table represents a frequency count."
   ]
  },
  {
   "cell_type": "code",
   "execution_count": 28,
   "metadata": {},
   "outputs": [
    {
     "data": {
      "text/plain": [
       "(2397.333604573684, 0.0, 33)"
      ]
     },
     "execution_count": 28,
     "metadata": {},
     "output_type": "execute_result"
    }
   ],
   "source": [
    "from scipy import stats\n",
    "stats.chi2_contingency(contingency_table)[:3]\n",
    "#With a p-value > 0.05 , we reject the null hypothesis. There is no visible relationship between\n",
    "#'date account created' and the 'country of destination' column, we can see that these two variables are \n",
    "#independent of each other."
   ]
  },
  {
   "cell_type": "code",
   "execution_count": 29,
   "metadata": {},
   "outputs": [
    {
     "data": {
      "text/html": [
       "<div>\n",
       "<style scoped>\n",
       "    .dataframe tbody tr th:only-of-type {\n",
       "        vertical-align: middle;\n",
       "    }\n",
       "\n",
       "    .dataframe tbody tr th {\n",
       "        vertical-align: top;\n",
       "    }\n",
       "\n",
       "    .dataframe thead th {\n",
       "        text-align: right;\n",
       "    }\n",
       "</style>\n",
       "<table border=\"1\" class=\"dataframe\">\n",
       "  <thead>\n",
       "    <tr style=\"text-align: right;\">\n",
       "      <th>country_destination</th>\n",
       "      <th>AU</th>\n",
       "      <th>CA</th>\n",
       "      <th>DE</th>\n",
       "      <th>ES</th>\n",
       "      <th>FR</th>\n",
       "      <th>GB</th>\n",
       "      <th>IT</th>\n",
       "      <th>NDF</th>\n",
       "      <th>NL</th>\n",
       "      <th>PT</th>\n",
       "      <th>US</th>\n",
       "      <th>other</th>\n",
       "    </tr>\n",
       "    <tr>\n",
       "      <th>first_device_type</th>\n",
       "      <th></th>\n",
       "      <th></th>\n",
       "      <th></th>\n",
       "      <th></th>\n",
       "      <th></th>\n",
       "      <th></th>\n",
       "      <th></th>\n",
       "      <th></th>\n",
       "      <th></th>\n",
       "      <th></th>\n",
       "      <th></th>\n",
       "      <th></th>\n",
       "    </tr>\n",
       "  </thead>\n",
       "  <tbody>\n",
       "    <tr>\n",
       "      <td>Android Phone</td>\n",
       "      <td>0</td>\n",
       "      <td>11</td>\n",
       "      <td>4</td>\n",
       "      <td>9</td>\n",
       "      <td>14</td>\n",
       "      <td>2</td>\n",
       "      <td>11</td>\n",
       "      <td>690</td>\n",
       "      <td>2</td>\n",
       "      <td>0</td>\n",
       "      <td>432</td>\n",
       "      <td>65</td>\n",
       "    </tr>\n",
       "    <tr>\n",
       "      <td>Android Tablet</td>\n",
       "      <td>0</td>\n",
       "      <td>6</td>\n",
       "      <td>3</td>\n",
       "      <td>8</td>\n",
       "      <td>18</td>\n",
       "      <td>1</td>\n",
       "      <td>11</td>\n",
       "      <td>305</td>\n",
       "      <td>5</td>\n",
       "      <td>2</td>\n",
       "      <td>223</td>\n",
       "      <td>41</td>\n",
       "    </tr>\n",
       "    <tr>\n",
       "      <td>Desktop (Other)</td>\n",
       "      <td>3</td>\n",
       "      <td>17</td>\n",
       "      <td>12</td>\n",
       "      <td>7</td>\n",
       "      <td>17</td>\n",
       "      <td>5</td>\n",
       "      <td>6</td>\n",
       "      <td>317</td>\n",
       "      <td>4</td>\n",
       "      <td>0</td>\n",
       "      <td>304</td>\n",
       "      <td>43</td>\n",
       "    </tr>\n",
       "    <tr>\n",
       "      <td>Mac Desktop</td>\n",
       "      <td>224</td>\n",
       "      <td>525</td>\n",
       "      <td>452</td>\n",
       "      <td>853</td>\n",
       "      <td>1966</td>\n",
       "      <td>932</td>\n",
       "      <td>999</td>\n",
       "      <td>23560</td>\n",
       "      <td>305</td>\n",
       "      <td>84</td>\n",
       "      <td>23323</td>\n",
       "      <td>3363</td>\n",
       "    </tr>\n",
       "    <tr>\n",
       "      <td>Other/Unknown</td>\n",
       "      <td>8</td>\n",
       "      <td>16</td>\n",
       "      <td>7</td>\n",
       "      <td>28</td>\n",
       "      <td>55</td>\n",
       "      <td>24</td>\n",
       "      <td>17</td>\n",
       "      <td>2667</td>\n",
       "      <td>9</td>\n",
       "      <td>2</td>\n",
       "      <td>930</td>\n",
       "      <td>138</td>\n",
       "    </tr>\n",
       "    <tr>\n",
       "      <td>SmartPhone (Other)</td>\n",
       "      <td>0</td>\n",
       "      <td>0</td>\n",
       "      <td>0</td>\n",
       "      <td>0</td>\n",
       "      <td>1</td>\n",
       "      <td>0</td>\n",
       "      <td>1</td>\n",
       "      <td>21</td>\n",
       "      <td>0</td>\n",
       "      <td>0</td>\n",
       "      <td>15</td>\n",
       "      <td>1</td>\n",
       "    </tr>\n",
       "    <tr>\n",
       "      <td>Windows Desktop</td>\n",
       "      <td>128</td>\n",
       "      <td>379</td>\n",
       "      <td>253</td>\n",
       "      <td>551</td>\n",
       "      <td>1081</td>\n",
       "      <td>533</td>\n",
       "      <td>631</td>\n",
       "      <td>18638</td>\n",
       "      <td>166</td>\n",
       "      <td>51</td>\n",
       "      <td>15511</td>\n",
       "      <td>2662</td>\n",
       "    </tr>\n",
       "    <tr>\n",
       "      <td>iPad</td>\n",
       "      <td>32</td>\n",
       "      <td>48</td>\n",
       "      <td>45</td>\n",
       "      <td>102</td>\n",
       "      <td>244</td>\n",
       "      <td>109</td>\n",
       "      <td>161</td>\n",
       "      <td>3478</td>\n",
       "      <td>56</td>\n",
       "      <td>7</td>\n",
       "      <td>2666</td>\n",
       "      <td>472</td>\n",
       "    </tr>\n",
       "    <tr>\n",
       "      <td>iPhone</td>\n",
       "      <td>28</td>\n",
       "      <td>46</td>\n",
       "      <td>49</td>\n",
       "      <td>104</td>\n",
       "      <td>208</td>\n",
       "      <td>99</td>\n",
       "      <td>117</td>\n",
       "      <td>5272</td>\n",
       "      <td>33</td>\n",
       "      <td>8</td>\n",
       "      <td>3875</td>\n",
       "      <td>544</td>\n",
       "    </tr>\n",
       "  </tbody>\n",
       "</table>\n",
       "</div>"
      ],
      "text/plain": [
       "country_destination   AU   CA   DE   ES    FR   GB   IT    NDF   NL  PT  \\\n",
       "first_device_type                                                         \n",
       "Android Phone          0   11    4    9    14    2   11    690    2   0   \n",
       "Android Tablet         0    6    3    8    18    1   11    305    5   2   \n",
       "Desktop (Other)        3   17   12    7    17    5    6    317    4   0   \n",
       "Mac Desktop          224  525  452  853  1966  932  999  23560  305  84   \n",
       "Other/Unknown          8   16    7   28    55   24   17   2667    9   2   \n",
       "SmartPhone (Other)     0    0    0    0     1    0    1     21    0   0   \n",
       "Windows Desktop      128  379  253  551  1081  533  631  18638  166  51   \n",
       "iPad                  32   48   45  102   244  109  161   3478   56   7   \n",
       "iPhone                28   46   49  104   208   99  117   5272   33   8   \n",
       "\n",
       "country_destination     US  other  \n",
       "first_device_type                  \n",
       "Android Phone          432     65  \n",
       "Android Tablet         223     41  \n",
       "Desktop (Other)        304     43  \n",
       "Mac Desktop          23323   3363  \n",
       "Other/Unknown          930    138  \n",
       "SmartPhone (Other)      15      1  \n",
       "Windows Desktop      15511   2662  \n",
       "iPad                  2666    472  \n",
       "iPhone                3875    544  "
      ]
     },
     "execution_count": 29,
     "metadata": {},
     "output_type": "execute_result"
    }
   ],
   "source": [
    "#Creating a contigency table for Chi Square test:\n",
    "#H0= We believe there is no relationship between the device used to browse/signup and country of destination \n",
    "#(are independent of each other)\n",
    "#H1 = These two variable are not independent of each other\n",
    "contingency_table = pd.crosstab(\n",
    "    df['first_device_type'], df['country_destination'])\n",
    "contingency_table\n",
    "#Each cell in this table represents a frequency count."
   ]
  },
  {
   "cell_type": "code",
   "execution_count": 30,
   "metadata": {},
   "outputs": [
    {
     "data": {
      "text/plain": [
       "(1662.6538804271956, 5.641255919580156e-289, 88)"
      ]
     },
     "execution_count": 30,
     "metadata": {},
     "output_type": "execute_result"
    }
   ],
   "source": [
    "from scipy import stats\n",
    "stats.chi2_contingency(contingency_table)[:3]\n",
    "#With a p-value > 0.05 , we fail to reject the null hypothesis. There is no visible relationship between\n",
    "#'first device type' and the 'country of destination' column, we can see that these two variables are \n",
    "#independent of each other."
   ]
  },
  {
   "cell_type": "code",
   "execution_count": 133,
   "metadata": {},
   "outputs": [
    {
     "data": {
      "text/html": [
       "<div>\n",
       "<style scoped>\n",
       "    .dataframe tbody tr th:only-of-type {\n",
       "        vertical-align: middle;\n",
       "    }\n",
       "\n",
       "    .dataframe tbody tr th {\n",
       "        vertical-align: top;\n",
       "    }\n",
       "\n",
       "    .dataframe thead th {\n",
       "        text-align: right;\n",
       "    }\n",
       "</style>\n",
       "<table border=\"1\" class=\"dataframe\">\n",
       "  <thead>\n",
       "    <tr style=\"text-align: right;\">\n",
       "      <th></th>\n",
       "      <th>id</th>\n",
       "      <th>date_account_created</th>\n",
       "      <th>date_first_booking</th>\n",
       "      <th>gender</th>\n",
       "      <th>age</th>\n",
       "      <th>signup_method</th>\n",
       "      <th>language</th>\n",
       "      <th>affiliate_channel</th>\n",
       "      <th>affiliate_provider</th>\n",
       "      <th>signup_app</th>\n",
       "      <th>first_device_type</th>\n",
       "      <th>first_browser</th>\n",
       "      <th>country_destination</th>\n",
       "    </tr>\n",
       "  </thead>\n",
       "  <tbody>\n",
       "    <tr>\n",
       "      <td>1</td>\n",
       "      <td>820tgsjxq7</td>\n",
       "      <td>2011-05-25</td>\n",
       "      <td>NaN</td>\n",
       "      <td>MALE</td>\n",
       "      <td>38.0</td>\n",
       "      <td>facebook</td>\n",
       "      <td>en</td>\n",
       "      <td>seo</td>\n",
       "      <td>google</td>\n",
       "      <td>Web</td>\n",
       "      <td>Mac Desktop</td>\n",
       "      <td>Chrome</td>\n",
       "      <td>NDF</td>\n",
       "    </tr>\n",
       "    <tr>\n",
       "      <td>2</td>\n",
       "      <td>4ft3gnwmtx</td>\n",
       "      <td>2010-09-28</td>\n",
       "      <td>2010-08-02</td>\n",
       "      <td>FEMALE</td>\n",
       "      <td>56.0</td>\n",
       "      <td>basic</td>\n",
       "      <td>en</td>\n",
       "      <td>direct</td>\n",
       "      <td>direct</td>\n",
       "      <td>Web</td>\n",
       "      <td>Windows Desktop</td>\n",
       "      <td>IE</td>\n",
       "      <td>US</td>\n",
       "    </tr>\n",
       "    <tr>\n",
       "      <td>3</td>\n",
       "      <td>bjjt8pjhuk</td>\n",
       "      <td>2011-12-05</td>\n",
       "      <td>2012-09-08</td>\n",
       "      <td>FEMALE</td>\n",
       "      <td>42.0</td>\n",
       "      <td>facebook</td>\n",
       "      <td>en</td>\n",
       "      <td>direct</td>\n",
       "      <td>direct</td>\n",
       "      <td>Web</td>\n",
       "      <td>Mac Desktop</td>\n",
       "      <td>Firefox</td>\n",
       "      <td>other</td>\n",
       "    </tr>\n",
       "    <tr>\n",
       "      <td>4</td>\n",
       "      <td>87mebub9p4</td>\n",
       "      <td>2010-09-14</td>\n",
       "      <td>2010-02-18</td>\n",
       "      <td>unknown</td>\n",
       "      <td>41.0</td>\n",
       "      <td>basic</td>\n",
       "      <td>en</td>\n",
       "      <td>direct</td>\n",
       "      <td>direct</td>\n",
       "      <td>Web</td>\n",
       "      <td>Mac Desktop</td>\n",
       "      <td>Chrome</td>\n",
       "      <td>US</td>\n",
       "    </tr>\n",
       "    <tr>\n",
       "      <td>6</td>\n",
       "      <td>lsw9q7uk0j</td>\n",
       "      <td>2010-01-02</td>\n",
       "      <td>2010-01-05</td>\n",
       "      <td>FEMALE</td>\n",
       "      <td>46.0</td>\n",
       "      <td>basic</td>\n",
       "      <td>en</td>\n",
       "      <td>other</td>\n",
       "      <td>craigslist</td>\n",
       "      <td>Web</td>\n",
       "      <td>Mac Desktop</td>\n",
       "      <td>Safari</td>\n",
       "      <td>US</td>\n",
       "    </tr>\n",
       "  </tbody>\n",
       "</table>\n",
       "</div>"
      ],
      "text/plain": [
       "           id date_account_created date_first_booking   gender   age  \\\n",
       "1  820tgsjxq7           2011-05-25                NaN     MALE  38.0   \n",
       "2  4ft3gnwmtx           2010-09-28         2010-08-02   FEMALE  56.0   \n",
       "3  bjjt8pjhuk           2011-12-05         2012-09-08   FEMALE  42.0   \n",
       "4  87mebub9p4           2010-09-14         2010-02-18  unknown  41.0   \n",
       "6  lsw9q7uk0j           2010-01-02         2010-01-05   FEMALE  46.0   \n",
       "\n",
       "  signup_method language affiliate_channel affiliate_provider signup_app  \\\n",
       "1      facebook       en               seo             google        Web   \n",
       "2         basic       en            direct             direct        Web   \n",
       "3      facebook       en            direct             direct        Web   \n",
       "4         basic       en            direct             direct        Web   \n",
       "6         basic       en             other         craigslist        Web   \n",
       "\n",
       "  first_device_type first_browser country_destination  \n",
       "1       Mac Desktop        Chrome                 NDF  \n",
       "2   Windows Desktop            IE                  US  \n",
       "3       Mac Desktop       Firefox               other  \n",
       "4       Mac Desktop        Chrome                  US  \n",
       "6       Mac Desktop        Safari                  US  "
      ]
     },
     "execution_count": 133,
     "metadata": {},
     "output_type": "execute_result"
    }
   ],
   "source": [
    "df = data\n",
    "df = df[(df.age != '')]\n",
    "df = df[(df.age <= 70)]\n",
    "df = df[(df.age >= 18)]\n",
    "df = df.drop(columns=['secs_elapsed', 'first_affiliate_tracked', 'timestamp_first_active', 'signup_flow'])\n",
    "# overwriting gender column with replaced value of unknown\n",
    "df[\"gender\"]= df[\"gender\"].replace(\"-unknown-\", \"unknown\") \n",
    "df.head()"
   ]
  },
  {
   "cell_type": "code",
   "execution_count": 134,
   "metadata": {},
   "outputs": [
    {
     "data": {
      "text/html": [
       "<div>\n",
       "<style scoped>\n",
       "    .dataframe tbody tr th:only-of-type {\n",
       "        vertical-align: middle;\n",
       "    }\n",
       "\n",
       "    .dataframe tbody tr th {\n",
       "        vertical-align: top;\n",
       "    }\n",
       "\n",
       "    .dataframe thead th {\n",
       "        text-align: right;\n",
       "    }\n",
       "</style>\n",
       "<table border=\"1\" class=\"dataframe\">\n",
       "  <thead>\n",
       "    <tr style=\"text-align: right;\">\n",
       "      <th></th>\n",
       "      <th>id</th>\n",
       "      <th>date_first_booking</th>\n",
       "      <th>gender</th>\n",
       "      <th>age</th>\n",
       "      <th>signup_method</th>\n",
       "      <th>language</th>\n",
       "      <th>signup_app</th>\n",
       "      <th>first_device_type</th>\n",
       "      <th>country_destination</th>\n",
       "    </tr>\n",
       "  </thead>\n",
       "  <tbody>\n",
       "    <tr>\n",
       "      <td>1</td>\n",
       "      <td>820tgsjxq7</td>\n",
       "      <td>NaN</td>\n",
       "      <td>MALE</td>\n",
       "      <td>38.0</td>\n",
       "      <td>facebook</td>\n",
       "      <td>en</td>\n",
       "      <td>Web</td>\n",
       "      <td>Mac Desktop</td>\n",
       "      <td>NDF</td>\n",
       "    </tr>\n",
       "    <tr>\n",
       "      <td>2</td>\n",
       "      <td>4ft3gnwmtx</td>\n",
       "      <td>2010-08-02</td>\n",
       "      <td>FEMALE</td>\n",
       "      <td>56.0</td>\n",
       "      <td>basic</td>\n",
       "      <td>en</td>\n",
       "      <td>Web</td>\n",
       "      <td>Windows Desktop</td>\n",
       "      <td>US</td>\n",
       "    </tr>\n",
       "    <tr>\n",
       "      <td>3</td>\n",
       "      <td>bjjt8pjhuk</td>\n",
       "      <td>2012-09-08</td>\n",
       "      <td>FEMALE</td>\n",
       "      <td>42.0</td>\n",
       "      <td>facebook</td>\n",
       "      <td>en</td>\n",
       "      <td>Web</td>\n",
       "      <td>Mac Desktop</td>\n",
       "      <td>other</td>\n",
       "    </tr>\n",
       "    <tr>\n",
       "      <td>4</td>\n",
       "      <td>87mebub9p4</td>\n",
       "      <td>2010-02-18</td>\n",
       "      <td>unknown</td>\n",
       "      <td>41.0</td>\n",
       "      <td>basic</td>\n",
       "      <td>en</td>\n",
       "      <td>Web</td>\n",
       "      <td>Mac Desktop</td>\n",
       "      <td>US</td>\n",
       "    </tr>\n",
       "    <tr>\n",
       "      <td>6</td>\n",
       "      <td>lsw9q7uk0j</td>\n",
       "      <td>2010-01-05</td>\n",
       "      <td>FEMALE</td>\n",
       "      <td>46.0</td>\n",
       "      <td>basic</td>\n",
       "      <td>en</td>\n",
       "      <td>Web</td>\n",
       "      <td>Mac Desktop</td>\n",
       "      <td>US</td>\n",
       "    </tr>\n",
       "  </tbody>\n",
       "</table>\n",
       "</div>"
      ],
      "text/plain": [
       "           id date_first_booking   gender   age signup_method language  \\\n",
       "1  820tgsjxq7                NaN     MALE  38.0      facebook       en   \n",
       "2  4ft3gnwmtx         2010-08-02   FEMALE  56.0         basic       en   \n",
       "3  bjjt8pjhuk         2012-09-08   FEMALE  42.0      facebook       en   \n",
       "4  87mebub9p4         2010-02-18  unknown  41.0         basic       en   \n",
       "6  lsw9q7uk0j         2010-01-05   FEMALE  46.0         basic       en   \n",
       "\n",
       "  signup_app first_device_type country_destination  \n",
       "1        Web       Mac Desktop                 NDF  \n",
       "2        Web   Windows Desktop                  US  \n",
       "3        Web       Mac Desktop               other  \n",
       "4        Web       Mac Desktop                  US  \n",
       "6        Web       Mac Desktop                  US  "
      ]
     },
     "execution_count": 134,
     "metadata": {},
     "output_type": "execute_result"
    }
   ],
   "source": [
    "# Creating a final dataframe for model building:\n",
    "dffinal = df.drop(columns=['date_account_created','affiliate_channel', 'affiliate_provider','first_browser'])\n",
    "dffinal.head()"
   ]
  },
  {
   "cell_type": "code",
   "execution_count": 135,
   "metadata": {},
   "outputs": [],
   "source": [
    "#Grouping categories in all the columns to reduce the no. of categories for better modelling:\n",
    "\n",
    "dffinal['first_device_type']=np.where(np.isin(dffinal['first_device_type'],['Mac Desktop', 'iPhone', 'iPad']), \n",
    "                                      'Mac', dffinal['first_device_type'])\n",
    "dffinal['first_device_type']=np.where(np.isin(dffinal['first_device_type'],['Windows Desktop', 'Android Tablet', \n",
    "                                                                            'Android Phone']), \n",
    "                                      'Win', dffinal['first_device_type'])\n",
    "dffinal['first_device_type']=np.where(np.isin(dffinal['first_device_type'],['Other/Unknown', 'Desktop (Other)',\n",
    "                                                                            'SmartPhone (Other)']), \n",
    "                                      'Other', dffinal['first_device_type'])\n",
    "dffinal['language']=np.where(np.isin(dffinal['language'],[ 'zh', 'ko', 'ja', 'id', 'th', 'ca' ]), \n",
    "                                      'Asian', dffinal['language'])\n",
    "dffinal['language']=np.where(np.isin(dffinal['language'],[ 'ru', 'sv' ]), \n",
    "                                      'Russian', dffinal['language'])\n",
    "dffinal['language']=np.where(np.isin(dffinal['language'],[ 'el', 'hr' ]), \n",
    "                                      'African', dffinal['language'])\n",
    "dffinal['language']=np.where(np.isin(dffinal['language'],[ 'de', 'es', 'fr', 'it', 'pt', 'nl', 'pl', 'hu', \n",
    "                                                          'da', 'fi', 'no', 'tr', \n",
    "                                                          'cs','is']), \n",
    "                                      'Eur', dffinal['language'])\n",
    "dffinal['gender']=np.where(np.isin(dffinal['gender'],['OTHER']), \n",
    "                                      'unknown', dffinal['gender'])"
   ]
  },
  {
   "cell_type": "code",
   "execution_count": 136,
   "metadata": {},
   "outputs": [
    {
     "name": "stdout",
     "output_type": "stream",
     "text": [
      "['en' 'Eur' 'Asian' 'Russian' 'African']\n",
      "['Web' 'Moweb' 'iOS' 'Android']\n",
      "['Mac' 'Win' 'Other']\n",
      "['facebook' 'basic' 'google']\n",
      "['MALE' 'FEMALE' 'unknown']\n"
     ]
    }
   ],
   "source": [
    "#Checking unique values\n",
    "print(dffinal.language.unique())\n",
    "print(dffinal.signup_app.unique())\n",
    "print(dffinal.first_device_type.unique())\n",
    "print(dffinal.signup_method.unique())\n",
    "print(dffinal.gender.unique())"
   ]
  },
  {
   "cell_type": "code",
   "execution_count": 137,
   "metadata": {},
   "outputs": [
    {
     "name": "stdout",
     "output_type": "stream",
     "text": [
      "           id date_first_booking   age signup_method language signup_app  \\\n",
      "1  820tgsjxq7                NaN  38.0      facebook       en        Web   \n",
      "2  4ft3gnwmtx         2010-08-02  56.0         basic       en        Web   \n",
      "3  bjjt8pjhuk         2012-09-08  42.0      facebook       en        Web   \n",
      "4  87mebub9p4         2010-02-18  41.0         basic       en        Web   \n",
      "6  lsw9q7uk0j         2010-01-05  46.0         basic       en        Web   \n",
      "\n",
      "  first_device_type country_destination  gen_FEMALE  gen_MALE  gen_unknown  \n",
      "1               Mac                 NDF           0         1            0  \n",
      "2               Win                  US           1         0            0  \n",
      "3               Mac               other           1         0            0  \n",
      "4               Mac                  US           0         0            1  \n",
      "6               Mac                  US           1         0            0  \n"
     ]
    }
   ],
   "source": [
    "#Converting each categorical variable to numerical\n",
    "dffinal_g = dffinal.copy()\n",
    "dffinal_g = pd.get_dummies(dffinal_g, columns=['gender'], prefix = ['gen'])\n",
    "print(dffinal_g.head())"
   ]
  },
  {
   "cell_type": "code",
   "execution_count": 138,
   "metadata": {},
   "outputs": [
    {
     "name": "stdout",
     "output_type": "stream",
     "text": [
      "           id date_first_booking   age language signup_app first_device_type  \\\n",
      "1  820tgsjxq7                NaN  38.0       en        Web               Mac   \n",
      "2  4ft3gnwmtx         2010-08-02  56.0       en        Web               Win   \n",
      "3  bjjt8pjhuk         2012-09-08  42.0       en        Web               Mac   \n",
      "4  87mebub9p4         2010-02-18  41.0       en        Web               Mac   \n",
      "6  lsw9q7uk0j         2010-01-05  46.0       en        Web               Mac   \n",
      "\n",
      "  country_destination  gen_FEMALE  gen_MALE  gen_unknown  sm_basic  \\\n",
      "1                 NDF           0         1            0         0   \n",
      "2                  US           1         0            0         1   \n",
      "3               other           1         0            0         0   \n",
      "4                  US           0         0            1         1   \n",
      "6                  US           1         0            0         1   \n",
      "\n",
      "   sm_facebook  sm_google  \n",
      "1            1          0  \n",
      "2            0          0  \n",
      "3            1          0  \n",
      "4            0          0  \n",
      "6            0          0  \n"
     ]
    }
   ],
   "source": [
    "dffinal_sm = dffinal_g.copy()\n",
    "dffinal_sm = pd.get_dummies(dffinal_sm, columns=['signup_method'], prefix = ['sm'])\n",
    "print(dffinal_sm.head())"
   ]
  },
  {
   "cell_type": "code",
   "execution_count": 139,
   "metadata": {},
   "outputs": [
    {
     "name": "stdout",
     "output_type": "stream",
     "text": [
      "           id date_first_booking   age language signup_app  \\\n",
      "1  820tgsjxq7                NaN  38.0       en        Web   \n",
      "2  4ft3gnwmtx         2010-08-02  56.0       en        Web   \n",
      "3  bjjt8pjhuk         2012-09-08  42.0       en        Web   \n",
      "4  87mebub9p4         2010-02-18  41.0       en        Web   \n",
      "6  lsw9q7uk0j         2010-01-05  46.0       en        Web   \n",
      "\n",
      "  country_destination  gen_FEMALE  gen_MALE  gen_unknown  sm_basic  \\\n",
      "1                 NDF           0         1            0         0   \n",
      "2                  US           1         0            0         1   \n",
      "3               other           1         0            0         0   \n",
      "4                  US           0         0            1         1   \n",
      "6                  US           1         0            0         1   \n",
      "\n",
      "   sm_facebook  sm_google  fd_Mac  fd_Other  fd_Win  \n",
      "1            1          0       1         0       0  \n",
      "2            0          0       0         0       1  \n",
      "3            1          0       1         0       0  \n",
      "4            0          0       1         0       0  \n",
      "6            0          0       1         0       0  \n"
     ]
    }
   ],
   "source": [
    "dffinal_fd = dffinal_sm.copy()\n",
    "dffinal_fd = pd.get_dummies(dffinal_fd, columns=['first_device_type'], prefix = ['fd'])\n",
    "print(dffinal_fd.head())"
   ]
  },
  {
   "cell_type": "code",
   "execution_count": 140,
   "metadata": {},
   "outputs": [
    {
     "name": "stdout",
     "output_type": "stream",
     "text": [
      "           id date_first_booking   age language country_destination  \\\n",
      "1  820tgsjxq7                NaN  38.0       en                 NDF   \n",
      "2  4ft3gnwmtx         2010-08-02  56.0       en                  US   \n",
      "3  bjjt8pjhuk         2012-09-08  42.0       en               other   \n",
      "4  87mebub9p4         2010-02-18  41.0       en                  US   \n",
      "6  lsw9q7uk0j         2010-01-05  46.0       en                  US   \n",
      "\n",
      "   gen_FEMALE  gen_MALE  gen_unknown  sm_basic  sm_facebook  sm_google  \\\n",
      "1           0         1            0         0            1          0   \n",
      "2           1         0            0         1            0          0   \n",
      "3           1         0            0         0            1          0   \n",
      "4           0         0            1         1            0          0   \n",
      "6           1         0            0         1            0          0   \n",
      "\n",
      "   fd_Mac  fd_Other  fd_Win  sa_Android  sa_Moweb  sa_Web  sa_iOS  \n",
      "1       1         0       0           0         0       1       0  \n",
      "2       0         0       1           0         0       1       0  \n",
      "3       1         0       0           0         0       1       0  \n",
      "4       1         0       0           0         0       1       0  \n",
      "6       1         0       0           0         0       1       0  \n"
     ]
    }
   ],
   "source": [
    "dffinal_sa = dffinal_fd.copy()\n",
    "dffinal_sa = pd.get_dummies(dffinal_sa, columns=['signup_app'], prefix = ['sa'])\n",
    "print(dffinal_sa.head())"
   ]
  },
  {
   "cell_type": "code",
   "execution_count": 141,
   "metadata": {},
   "outputs": [
    {
     "name": "stdout",
     "output_type": "stream",
     "text": [
      "           id date_first_booking   age country_destination  gen_FEMALE  \\\n",
      "1  820tgsjxq7                NaN  38.0                 NDF           0   \n",
      "2  4ft3gnwmtx         2010-08-02  56.0                  US           1   \n",
      "3  bjjt8pjhuk         2012-09-08  42.0               other           1   \n",
      "4  87mebub9p4         2010-02-18  41.0                  US           0   \n",
      "6  lsw9q7uk0j         2010-01-05  46.0                  US           1   \n",
      "\n",
      "   gen_MALE  gen_unknown  sm_basic  sm_facebook  sm_google  ...  fd_Win  \\\n",
      "1         1            0         0            1          0  ...       0   \n",
      "2         0            0         1            0          0  ...       1   \n",
      "3         0            0         0            1          0  ...       0   \n",
      "4         0            1         1            0          0  ...       0   \n",
      "6         0            0         1            0          0  ...       0   \n",
      "\n",
      "   sa_Android  sa_Moweb  sa_Web  sa_iOS  lng_African  lng_Asian  lng_Eur  \\\n",
      "1           0         0       1       0            0          0        0   \n",
      "2           0         0       1       0            0          0        0   \n",
      "3           0         0       1       0            0          0        0   \n",
      "4           0         0       1       0            0          0        0   \n",
      "6           0         0       1       0            0          0        0   \n",
      "\n",
      "   lng_Russian  lng_en  \n",
      "1            0       1  \n",
      "2            0       1  \n",
      "3            0       1  \n",
      "4            0       1  \n",
      "6            0       1  \n",
      "\n",
      "[5 rows x 22 columns]\n"
     ]
    }
   ],
   "source": [
    "#Final dataset\n",
    "dffinal_lg = dffinal_sa.copy()\n",
    "dffinal_lg = pd.get_dummies(dffinal_lg, columns=['language'], prefix = ['lng'])\n",
    "print(dffinal_lg.head())"
   ]
  },
  {
   "cell_type": "code",
   "execution_count": 142,
   "metadata": {},
   "outputs": [],
   "source": [
    "#replacing the NaN's to zeros for date of first booking:\n",
    "dffinal_lg['date_first_booking'] = dffinal_lg['date_first_booking'].replace(np.nan, 0)"
   ]
  },
  {
   "cell_type": "code",
   "execution_count": 143,
   "metadata": {},
   "outputs": [],
   "source": [
    "#Converting date of first booking to numerical value:\n",
    "dffinal_lg['bkdt_num'] = dffinal_lg['date_first_booking'].map(lambda x: 1 if x != 0 else 0)\n",
    "dffinal_lg = dffinal_lg.drop(columns=['date_first_booking', 'id'])"
   ]
  },
  {
   "cell_type": "code",
   "execution_count": 49,
   "metadata": {},
   "outputs": [
    {
     "data": {
      "text/html": [
       "<div>\n",
       "<style scoped>\n",
       "    .dataframe tbody tr th:only-of-type {\n",
       "        vertical-align: middle;\n",
       "    }\n",
       "\n",
       "    .dataframe tbody tr th {\n",
       "        vertical-align: top;\n",
       "    }\n",
       "\n",
       "    .dataframe thead th {\n",
       "        text-align: right;\n",
       "    }\n",
       "</style>\n",
       "<table border=\"1\" class=\"dataframe\">\n",
       "  <thead>\n",
       "    <tr style=\"text-align: right;\">\n",
       "      <th></th>\n",
       "      <th>age</th>\n",
       "      <th>country_destination</th>\n",
       "      <th>gen_FEMALE</th>\n",
       "      <th>gen_MALE</th>\n",
       "      <th>gen_unknown</th>\n",
       "      <th>sm_basic</th>\n",
       "      <th>sm_facebook</th>\n",
       "      <th>sm_google</th>\n",
       "      <th>fd_Mac</th>\n",
       "      <th>fd_Other</th>\n",
       "      <th>...</th>\n",
       "      <th>sa_Android</th>\n",
       "      <th>sa_Moweb</th>\n",
       "      <th>sa_Web</th>\n",
       "      <th>sa_iOS</th>\n",
       "      <th>lng_African</th>\n",
       "      <th>lng_Asian</th>\n",
       "      <th>lng_Eur</th>\n",
       "      <th>lng_Russian</th>\n",
       "      <th>lng_en</th>\n",
       "      <th>bkdt_num</th>\n",
       "    </tr>\n",
       "  </thead>\n",
       "  <tbody>\n",
       "    <tr>\n",
       "      <td>1</td>\n",
       "      <td>38.0</td>\n",
       "      <td>NDF</td>\n",
       "      <td>0</td>\n",
       "      <td>1</td>\n",
       "      <td>0</td>\n",
       "      <td>0</td>\n",
       "      <td>1</td>\n",
       "      <td>0</td>\n",
       "      <td>1</td>\n",
       "      <td>0</td>\n",
       "      <td>...</td>\n",
       "      <td>0</td>\n",
       "      <td>0</td>\n",
       "      <td>1</td>\n",
       "      <td>0</td>\n",
       "      <td>0</td>\n",
       "      <td>0</td>\n",
       "      <td>0</td>\n",
       "      <td>0</td>\n",
       "      <td>1</td>\n",
       "      <td>0</td>\n",
       "    </tr>\n",
       "    <tr>\n",
       "      <td>2</td>\n",
       "      <td>56.0</td>\n",
       "      <td>US</td>\n",
       "      <td>1</td>\n",
       "      <td>0</td>\n",
       "      <td>0</td>\n",
       "      <td>1</td>\n",
       "      <td>0</td>\n",
       "      <td>0</td>\n",
       "      <td>0</td>\n",
       "      <td>0</td>\n",
       "      <td>...</td>\n",
       "      <td>0</td>\n",
       "      <td>0</td>\n",
       "      <td>1</td>\n",
       "      <td>0</td>\n",
       "      <td>0</td>\n",
       "      <td>0</td>\n",
       "      <td>0</td>\n",
       "      <td>0</td>\n",
       "      <td>1</td>\n",
       "      <td>1</td>\n",
       "    </tr>\n",
       "    <tr>\n",
       "      <td>3</td>\n",
       "      <td>42.0</td>\n",
       "      <td>other</td>\n",
       "      <td>1</td>\n",
       "      <td>0</td>\n",
       "      <td>0</td>\n",
       "      <td>0</td>\n",
       "      <td>1</td>\n",
       "      <td>0</td>\n",
       "      <td>1</td>\n",
       "      <td>0</td>\n",
       "      <td>...</td>\n",
       "      <td>0</td>\n",
       "      <td>0</td>\n",
       "      <td>1</td>\n",
       "      <td>0</td>\n",
       "      <td>0</td>\n",
       "      <td>0</td>\n",
       "      <td>0</td>\n",
       "      <td>0</td>\n",
       "      <td>1</td>\n",
       "      <td>1</td>\n",
       "    </tr>\n",
       "    <tr>\n",
       "      <td>4</td>\n",
       "      <td>41.0</td>\n",
       "      <td>US</td>\n",
       "      <td>0</td>\n",
       "      <td>0</td>\n",
       "      <td>1</td>\n",
       "      <td>1</td>\n",
       "      <td>0</td>\n",
       "      <td>0</td>\n",
       "      <td>1</td>\n",
       "      <td>0</td>\n",
       "      <td>...</td>\n",
       "      <td>0</td>\n",
       "      <td>0</td>\n",
       "      <td>1</td>\n",
       "      <td>0</td>\n",
       "      <td>0</td>\n",
       "      <td>0</td>\n",
       "      <td>0</td>\n",
       "      <td>0</td>\n",
       "      <td>1</td>\n",
       "      <td>1</td>\n",
       "    </tr>\n",
       "    <tr>\n",
       "      <td>6</td>\n",
       "      <td>46.0</td>\n",
       "      <td>US</td>\n",
       "      <td>1</td>\n",
       "      <td>0</td>\n",
       "      <td>0</td>\n",
       "      <td>1</td>\n",
       "      <td>0</td>\n",
       "      <td>0</td>\n",
       "      <td>1</td>\n",
       "      <td>0</td>\n",
       "      <td>...</td>\n",
       "      <td>0</td>\n",
       "      <td>0</td>\n",
       "      <td>1</td>\n",
       "      <td>0</td>\n",
       "      <td>0</td>\n",
       "      <td>0</td>\n",
       "      <td>0</td>\n",
       "      <td>0</td>\n",
       "      <td>1</td>\n",
       "      <td>1</td>\n",
       "    </tr>\n",
       "  </tbody>\n",
       "</table>\n",
       "<p>5 rows × 21 columns</p>\n",
       "</div>"
      ],
      "text/plain": [
       "    age country_destination  gen_FEMALE  gen_MALE  gen_unknown  sm_basic  \\\n",
       "1  38.0                 NDF           0         1            0         0   \n",
       "2  56.0                  US           1         0            0         1   \n",
       "3  42.0               other           1         0            0         0   \n",
       "4  41.0                  US           0         0            1         1   \n",
       "6  46.0                  US           1         0            0         1   \n",
       "\n",
       "   sm_facebook  sm_google  fd_Mac  fd_Other  ...  sa_Android  sa_Moweb  \\\n",
       "1            1          0       1         0  ...           0         0   \n",
       "2            0          0       0         0  ...           0         0   \n",
       "3            1          0       1         0  ...           0         0   \n",
       "4            0          0       1         0  ...           0         0   \n",
       "6            0          0       1         0  ...           0         0   \n",
       "\n",
       "   sa_Web  sa_iOS  lng_African  lng_Asian  lng_Eur  lng_Russian  lng_en  \\\n",
       "1       1       0            0          0        0            0       1   \n",
       "2       1       0            0          0        0            0       1   \n",
       "3       1       0            0          0        0            0       1   \n",
       "4       1       0            0          0        0            0       1   \n",
       "6       1       0            0          0        0            0       1   \n",
       "\n",
       "   bkdt_num  \n",
       "1         0  \n",
       "2         1  \n",
       "3         1  \n",
       "4         1  \n",
       "6         1  \n",
       "\n",
       "[5 rows x 21 columns]"
      ]
     },
     "execution_count": 49,
     "metadata": {},
     "output_type": "execute_result"
    }
   ],
   "source": [
    "dffinal_lg.head()"
   ]
  },
  {
   "cell_type": "code",
   "execution_count": 144,
   "metadata": {},
   "outputs": [],
   "source": [
    "#split dataset in features and target variable\n",
    "X = dffinal_lg.ix[:,(0,2,3,4,5,6,7,8,9,10,11,12,13,14,15,16,17,18,19)]\n",
    "y = dffinal_lg.ix[:,(1)]"
   ]
  },
  {
   "cell_type": "code",
   "execution_count": 145,
   "metadata": {},
   "outputs": [
    {
     "data": {
      "text/plain": [
       "LogisticRegression(C=1.0, class_weight=None, dual=False, fit_intercept=True,\n",
       "                   intercept_scaling=1, l1_ratio=None, max_iter=100,\n",
       "                   multi_class='multinomial', n_jobs=None, penalty='l2',\n",
       "                   random_state=0, solver='lbfgs', tol=0.0001, verbose=0,\n",
       "                   warm_start=False)"
      ]
     },
     "execution_count": 145,
     "metadata": {},
     "output_type": "execute_result"
    }
   ],
   "source": [
    "#Logistic Regression Model Fitting\n",
    "from sklearn.linear_model import LogisticRegression\n",
    "from sklearn.model_selection import train_test_split\n",
    "from sklearn import metrics\n",
    "X_train, X_test, y_train, y_test = train_test_split(X, y, test_size=0.25, random_state=0)\n",
    "logreg = LogisticRegression(random_state=0, solver='lbfgs',\n",
    "                        multi_class='multinomial').fit(X, y)\n",
    "logreg.fit(X_train, y_train)"
   ]
  },
  {
   "cell_type": "code",
   "execution_count": 52,
   "metadata": {},
   "outputs": [
    {
     "name": "stdout",
     "output_type": "stream",
     "text": [
      "Accuracy of logistic regression classifier on test set: 0.53\n"
     ]
    }
   ],
   "source": [
    "#Predicting the accuracy of the logit regression on the test set:\n",
    "y_pred = logreg.predict(X_test)\n",
    "print('Accuracy of logistic regression classifier on test set: {:.2f}'.format(logreg.score(X_test, y_test)))"
   ]
  },
  {
   "cell_type": "code",
   "execution_count": 53,
   "metadata": {},
   "outputs": [
    {
     "name": "stdout",
     "output_type": "stream",
     "text": [
      "              precision    recall  f1-score   support\n",
      "\n",
      "          AU       0.00      0.00      0.00       112\n",
      "          CA       0.00      0.00      0.00       261\n",
      "          DE       0.00      0.00      0.00       217\n",
      "          ES       0.00      0.00      0.00       421\n",
      "          FR       0.00      0.00      0.00       896\n",
      "          GB       0.00      0.00      0.00       406\n",
      "          IT       0.00      0.00      0.00       466\n",
      "         NDF       0.57      0.64      0.61     13567\n",
      "          NL       0.00      0.00      0.00       149\n",
      "          PT       0.00      0.00      0.00        49\n",
      "          US       0.49      0.62      0.54     11979\n",
      "       other       0.00      0.00      0.00      1855\n",
      "\n",
      "    accuracy                           0.53     30378\n",
      "   macro avg       0.09      0.10      0.10     30378\n",
      "weighted avg       0.45      0.53      0.48     30378\n",
      "\n"
     ]
    }
   ],
   "source": [
    "#Classification report\n",
    "#The precision is intuitively the ability of the classifier to not label a sample as positive if it is negative.\n",
    "#The recall is intuitively the ability of the classifier to find all the positive samples.\n",
    "#The F-beta score can be interpreted as a weighted harmonic mean of the precision and recall, where an F-beta \n",
    "#score reaches its best value at 1 and worst score at 0.\n",
    "#The support is the number of occurrences of each class in y_test.\n",
    "from sklearn.metrics import classification_report\n",
    "print(classification_report(y_test, y_pred))"
   ]
  },
  {
   "cell_type": "code",
   "execution_count": 54,
   "metadata": {},
   "outputs": [
    {
     "data": {
      "text/plain": [
       "SVC(C=1.0, cache_size=200, class_weight=None, coef0=0.0,\n",
       "    decision_function_shape='ovr', degree=3, gamma='auto_deprecated',\n",
       "    kernel='linear', max_iter=-1, probability=False, random_state=0,\n",
       "    shrinking=True, tol=1e-05, verbose=False)"
      ]
     },
     "execution_count": 54,
     "metadata": {},
     "output_type": "execute_result"
    }
   ],
   "source": [
    "#Linear SVM Model Fitting:\n",
    "from sklearn.svm import SVC\n",
    "svclassifier = SVC(kernel='linear',random_state=0, tol=1e-5)\n",
    "svclassifier.fit(X_train, y_train)"
   ]
  },
  {
   "cell_type": "code",
   "execution_count": 56,
   "metadata": {},
   "outputs": [
    {
     "name": "stdout",
     "output_type": "stream",
     "text": [
      "Accuracy: 0.5288366581078412\n"
     ]
    }
   ],
   "source": [
    "y_pred = svclassifier.predict(X_test)\n",
    "from sklearn import metrics\n",
    "\n",
    "# Model Accuracy: how often is the classifier correct?\n",
    "print(\"Accuracy:\",metrics.accuracy_score(y_test, y_pred))"
   ]
  },
  {
   "cell_type": "code",
   "execution_count": 56,
   "metadata": {},
   "outputs": [
    {
     "name": "stdout",
     "output_type": "stream",
     "text": [
      "[[   0    0    0    0    0    0    0   40    0    0   72    0]\n",
      " [   0    0    0    0    0    0    0   76    0    0  185    0]\n",
      " [   0    0    0    0    0    0    0   93    0    0  124    0]\n",
      " [   0    0    0    0    0    0    0  158    0    0  263    0]\n",
      " [   0    0    0    0    0    0    0  321    0    0  575    0]\n",
      " [   0    0    0    0    0    0    0  133    0    0  273    0]\n",
      " [   0    0    0    0    0    0    0  166    0    0  300    0]\n",
      " [   0    0    0    0    0    0    0 8250    0    0 5317    0]\n",
      " [   0    0    0    0    0    0    0   53    0    0   96    0]\n",
      " [   0    0    0    0    0    0    0   21    0    0   28    0]\n",
      " [   0    0    0    1    0    0    0 4163    0    0 7815    0]\n",
      " [   0    0    0    0    0    0    0  650    0    0 1205    0]]\n",
      "              precision    recall  f1-score   support\n",
      "\n",
      "          AU       0.00      0.00      0.00       112\n",
      "          CA       0.00      0.00      0.00       261\n",
      "          DE       0.00      0.00      0.00       217\n",
      "          ES       0.00      0.00      0.00       421\n",
      "          FR       0.00      0.00      0.00       896\n",
      "          GB       0.00      0.00      0.00       406\n",
      "          IT       0.00      0.00      0.00       466\n",
      "         NDF       0.58      0.61      0.60     13567\n",
      "          NL       0.00      0.00      0.00       149\n",
      "          PT       0.00      0.00      0.00        49\n",
      "          US       0.48      0.65      0.55     11979\n",
      "       other       0.00      0.00      0.00      1855\n",
      "\n",
      "    accuracy                           0.53     30378\n",
      "   macro avg       0.09      0.11      0.10     30378\n",
      "weighted avg       0.45      0.53      0.48     30378\n",
      "\n"
     ]
    }
   ],
   "source": [
    "from sklearn.metrics import classification_report, confusion_matrix\n",
    "print(confusion_matrix(y_test,y_pred))\n",
    "print(classification_report(y_test,y_pred))"
   ]
  },
  {
   "cell_type": "code",
   "execution_count": 57,
   "metadata": {},
   "outputs": [],
   "source": [
    "# Import Decision Tree Classifier\n",
    "from sklearn.tree import DecisionTreeClassifier \n",
    "# Create Decision Tree classifer object\n",
    "clf = DecisionTreeClassifier(criterion=\"entropy\", max_depth=20)\n",
    "# Train Decision Tree Classifer\n",
    "clf = clf.fit(X_train,y_train)\n",
    "\n",
    "#Predict the response for test dataset\n",
    "y_pred = clf.predict(X_test)"
   ]
  },
  {
   "cell_type": "code",
   "execution_count": 58,
   "metadata": {},
   "outputs": [
    {
     "name": "stdout",
     "output_type": "stream",
     "text": [
      "Accuracy: 0.523207584436105\n"
     ]
    }
   ],
   "source": [
    "print(\"Accuracy:\",metrics.accuracy_score(y_test, y_pred))"
   ]
  },
  {
   "cell_type": "code",
   "execution_count": 59,
   "metadata": {},
   "outputs": [],
   "source": [
    "#Import Random Forest Model\n",
    "from sklearn.ensemble import RandomForestClassifier\n",
    "\n",
    "#Create a Gaussian Classifier\n",
    "clf=RandomForestClassifier(n_estimators=100)\n",
    "\n",
    "#Train the model using the training sets y_pred=clf.predict(X_test)\n",
    "clf.fit(X_train,y_train)\n",
    "\n",
    "y_pred=clf.predict(X_test)"
   ]
  },
  {
   "cell_type": "code",
   "execution_count": 60,
   "metadata": {},
   "outputs": [
    {
     "name": "stdout",
     "output_type": "stream",
     "text": [
      "Accuracy: 0.5222200276515899\n"
     ]
    }
   ],
   "source": [
    "#Import scikit-learn metrics module for accuracy calculation\n",
    "from sklearn import metrics\n",
    "# Model Accuracy, how often is the classifier correct?\n",
    "print(\"Accuracy:\",metrics.accuracy_score(y_test, y_pred))"
   ]
  },
  {
   "cell_type": "code",
   "execution_count": 60,
   "metadata": {},
   "outputs": [],
   "source": [
    "#GBM algorithm  \n",
    "from sklearn.ensemble import GradientBoostingClassifier  \n",
    "from sklearn.metrics import mean_squared_error\n",
    "xgb = GradientBoostingClassifier()"
   ]
  },
  {
   "cell_type": "code",
   "execution_count": 62,
   "metadata": {},
   "outputs": [
    {
     "data": {
      "text/plain": [
       "GradientBoostingClassifier(criterion='friedman_mse', init=None,\n",
       "                           learning_rate=0.1, loss='deviance', max_depth=3,\n",
       "                           max_features=None, max_leaf_nodes=None,\n",
       "                           min_impurity_decrease=0.0, min_impurity_split=None,\n",
       "                           min_samples_leaf=1, min_samples_split=2,\n",
       "                           min_weight_fraction_leaf=0.0, n_estimators=100,\n",
       "                           n_iter_no_change=None, presort='auto',\n",
       "                           random_state=None, subsample=1.0, tol=0.0001,\n",
       "                           validation_fraction=0.1, verbose=0,\n",
       "                           warm_start=False)"
      ]
     },
     "execution_count": 62,
     "metadata": {},
     "output_type": "execute_result"
    }
   ],
   "source": [
    "xgb.fit(X_train, y_train)"
   ]
  },
  {
   "cell_type": "code",
   "execution_count": 190,
   "metadata": {},
   "outputs": [
    {
     "name": "stdout",
     "output_type": "stream",
     "text": [
      "Accuracy: 0.5302521561656461\n"
     ]
    }
   ],
   "source": [
    "y_pred=xgb.predict(X_test)\n",
    "# Model Accuracy, how often is the classifier correct?\n",
    "print(\"Accuracy:\",metrics.accuracy_score(y_test, y_pred))"
   ]
  },
  {
   "cell_type": "code",
   "execution_count": 191,
   "metadata": {},
   "outputs": [
    {
     "name": "stdout",
     "output_type": "stream",
     "text": [
      "Best: 0.529952 using {'dual': False, 'max_iter': 100}\n"
     ]
    }
   ],
   "source": [
    "#Hyper parameter tuning using Grid Search for our logistic regression\n",
    "from sklearn.model_selection import GridSearchCV\n",
    "dual=[True,False]\n",
    "max_iter=[100,110,120,130,140]\n",
    "param_grid = dict(dual=dual,max_iter=max_iter)\n",
    "lr = LogisticRegression(penalty='l2')\n",
    "grid = GridSearchCV(estimator=lr, param_grid=param_grid, cv = 3, n_jobs=-1)\n",
    "\n",
    "grid_result = grid.fit(X, y)\n",
    "# Summarize results\n",
    "print(\"Best: %f using %s\" % (grid_result.best_score_, grid_result.best_params_))"
   ]
  },
  {
   "cell_type": "code",
   "execution_count": 146,
   "metadata": {
    "scrolled": true
   },
   "outputs": [],
   "source": [
    "#Redoing the conversion of categories in to dummies for all features including dates as the earlier modeling did not \n",
    "#yield great accuracy even after hyper parameter tuning of the logit. We will be doing one hot encoding for gender and \n",
    "#label encoding for the other features, The date of\n",
    "#first booking has been already split in to year, month & day.\n",
    "dffinal_g['dfb_year'] = pd.DatetimeIndex(dffinal_g['date_first_booking']).year\n",
    "dffinal_g['dfb_month'] = pd.DatetimeIndex(dffinal_g['date_first_booking']).month\n",
    "dffinal_g['dfb_day'] = pd.DatetimeIndex(dffinal_g['date_first_booking']).day"
   ]
  },
  {
   "cell_type": "code",
   "execution_count": 147,
   "metadata": {},
   "outputs": [],
   "source": [
    "from sklearn.preprocessing import LabelEncoder\n",
    "lb = LabelEncoder()\n",
    "dffinal_g['language'] = lb.fit_transform(dffinal_g['language'])\n",
    "dffinal_g['signup_app'] = lb.fit_transform(dffinal_g['signup_app'])\n",
    "dffinal_g['first_device_type'] = lb.fit_transform(dffinal_g['first_device_type'])\n",
    "dffinal_g['signup_method'] = lb.fit_transform(dffinal_g['signup_method'])"
   ]
  },
  {
   "cell_type": "code",
   "execution_count": 148,
   "metadata": {},
   "outputs": [],
   "source": [
    "# for whole dataframe\n",
    "dffinal_g = dffinal_g.replace(np.nan, 0)\n",
    "dffinal_g = dffinal_g.drop(columns=['date_first_booking', 'id'])"
   ]
  },
  {
   "cell_type": "code",
   "execution_count": 149,
   "metadata": {},
   "outputs": [
    {
     "data": {
      "text/html": [
       "<div>\n",
       "<style scoped>\n",
       "    .dataframe tbody tr th:only-of-type {\n",
       "        vertical-align: middle;\n",
       "    }\n",
       "\n",
       "    .dataframe tbody tr th {\n",
       "        vertical-align: top;\n",
       "    }\n",
       "\n",
       "    .dataframe thead th {\n",
       "        text-align: right;\n",
       "    }\n",
       "</style>\n",
       "<table border=\"1\" class=\"dataframe\">\n",
       "  <thead>\n",
       "    <tr style=\"text-align: right;\">\n",
       "      <th></th>\n",
       "      <th>age</th>\n",
       "      <th>signup_method</th>\n",
       "      <th>language</th>\n",
       "      <th>signup_app</th>\n",
       "      <th>first_device_type</th>\n",
       "      <th>country_destination</th>\n",
       "      <th>gen_FEMALE</th>\n",
       "      <th>gen_MALE</th>\n",
       "      <th>gen_unknown</th>\n",
       "      <th>dfb_year</th>\n",
       "      <th>dfb_month</th>\n",
       "      <th>dfb_day</th>\n",
       "    </tr>\n",
       "  </thead>\n",
       "  <tbody>\n",
       "    <tr>\n",
       "      <td>1</td>\n",
       "      <td>38.0</td>\n",
       "      <td>1</td>\n",
       "      <td>4</td>\n",
       "      <td>2</td>\n",
       "      <td>0</td>\n",
       "      <td>NDF</td>\n",
       "      <td>0</td>\n",
       "      <td>1</td>\n",
       "      <td>0</td>\n",
       "      <td>0.0</td>\n",
       "      <td>0.0</td>\n",
       "      <td>0.0</td>\n",
       "    </tr>\n",
       "    <tr>\n",
       "      <td>2</td>\n",
       "      <td>56.0</td>\n",
       "      <td>0</td>\n",
       "      <td>4</td>\n",
       "      <td>2</td>\n",
       "      <td>2</td>\n",
       "      <td>US</td>\n",
       "      <td>1</td>\n",
       "      <td>0</td>\n",
       "      <td>0</td>\n",
       "      <td>2010.0</td>\n",
       "      <td>8.0</td>\n",
       "      <td>2.0</td>\n",
       "    </tr>\n",
       "    <tr>\n",
       "      <td>3</td>\n",
       "      <td>42.0</td>\n",
       "      <td>1</td>\n",
       "      <td>4</td>\n",
       "      <td>2</td>\n",
       "      <td>0</td>\n",
       "      <td>other</td>\n",
       "      <td>1</td>\n",
       "      <td>0</td>\n",
       "      <td>0</td>\n",
       "      <td>2012.0</td>\n",
       "      <td>9.0</td>\n",
       "      <td>8.0</td>\n",
       "    </tr>\n",
       "    <tr>\n",
       "      <td>4</td>\n",
       "      <td>41.0</td>\n",
       "      <td>0</td>\n",
       "      <td>4</td>\n",
       "      <td>2</td>\n",
       "      <td>0</td>\n",
       "      <td>US</td>\n",
       "      <td>0</td>\n",
       "      <td>0</td>\n",
       "      <td>1</td>\n",
       "      <td>2010.0</td>\n",
       "      <td>2.0</td>\n",
       "      <td>18.0</td>\n",
       "    </tr>\n",
       "    <tr>\n",
       "      <td>6</td>\n",
       "      <td>46.0</td>\n",
       "      <td>0</td>\n",
       "      <td>4</td>\n",
       "      <td>2</td>\n",
       "      <td>0</td>\n",
       "      <td>US</td>\n",
       "      <td>1</td>\n",
       "      <td>0</td>\n",
       "      <td>0</td>\n",
       "      <td>2010.0</td>\n",
       "      <td>1.0</td>\n",
       "      <td>5.0</td>\n",
       "    </tr>\n",
       "  </tbody>\n",
       "</table>\n",
       "</div>"
      ],
      "text/plain": [
       "    age  signup_method  language  signup_app  first_device_type  \\\n",
       "1  38.0              1         4           2                  0   \n",
       "2  56.0              0         4           2                  2   \n",
       "3  42.0              1         4           2                  0   \n",
       "4  41.0              0         4           2                  0   \n",
       "6  46.0              0         4           2                  0   \n",
       "\n",
       "  country_destination  gen_FEMALE  gen_MALE  gen_unknown  dfb_year  dfb_month  \\\n",
       "1                 NDF           0         1            0       0.0        0.0   \n",
       "2                  US           1         0            0    2010.0        8.0   \n",
       "3               other           1         0            0    2012.0        9.0   \n",
       "4                  US           0         0            1    2010.0        2.0   \n",
       "6                  US           1         0            0    2010.0        1.0   \n",
       "\n",
       "   dfb_day  \n",
       "1      0.0  \n",
       "2      2.0  \n",
       "3      8.0  \n",
       "4     18.0  \n",
       "6      5.0  "
      ]
     },
     "execution_count": 149,
     "metadata": {},
     "output_type": "execute_result"
    }
   ],
   "source": [
    "dffinal_g.head()"
   ]
  },
  {
   "cell_type": "code",
   "execution_count": 150,
   "metadata": {},
   "outputs": [],
   "source": [
    "X1 = dffinal_g[['age','signup_method','language','signup_app', 'first_device_type','gen_FEMALE','gen_MALE',\n",
    "                     'gen_unknown','dfb_year','dfb_month','dfb_day']]\n",
    "y1 = dffinal_g[['country_destination']]"
   ]
  },
  {
   "cell_type": "code",
   "execution_count": 151,
   "metadata": {},
   "outputs": [
    {
     "data": {
      "text/plain": [
       "LogisticRegression(C=1.0, class_weight=None, dual=False, fit_intercept=True,\n",
       "                   intercept_scaling=1, l1_ratio=None, max_iter=100,\n",
       "                   multi_class='multinomial', n_jobs=None, penalty='l2',\n",
       "                   random_state=0, solver='lbfgs', tol=0.0001, verbose=0,\n",
       "                   warm_start=False)"
      ]
     },
     "execution_count": 151,
     "metadata": {},
     "output_type": "execute_result"
    }
   ],
   "source": [
    "#Logistic Regression Model Fitting\n",
    "from sklearn.linear_model import LogisticRegression\n",
    "from sklearn import metrics\n",
    "X_train, X_test, y_train, y_test = train_test_split(X1, y1, test_size=0.3)\n",
    "logreg = LogisticRegression(random_state=0, solver='lbfgs',\n",
    "                        multi_class='multinomial').fit(X, y)\n",
    "logreg.fit(X_train, y_train)"
   ]
  },
  {
   "cell_type": "code",
   "execution_count": 51,
   "metadata": {},
   "outputs": [
    {
     "name": "stdout",
     "output_type": "stream",
     "text": [
      "Accuracy of logistic regression classifier on test set: 0.5295\n"
     ]
    }
   ],
   "source": [
    "#Predicting the accuracy of the logit regression on the test set:\n",
    "y_pred = logreg.predict(X_test)\n",
    "print('Accuracy of logistic regression classifier on test set: {:.4f}'.format(logreg.score(X_test, y_test)))"
   ]
  },
  {
   "cell_type": "code",
   "execution_count": 52,
   "metadata": {},
   "outputs": [
    {
     "name": "stdout",
     "output_type": "stream",
     "text": [
      "              precision    recall  f1-score   support\n",
      "\n",
      "          AU       0.00      0.00      0.00       112\n",
      "          CA       0.00      0.00      0.00       261\n",
      "          DE       0.00      0.00      0.00       217\n",
      "          ES       0.00      0.00      0.00       421\n",
      "          FR       0.00      0.00      0.00       896\n",
      "          GB       0.00      0.00      0.00       406\n",
      "          IT       0.00      0.00      0.00       466\n",
      "         NDF       0.57      0.64      0.61     13567\n",
      "          NL       0.00      0.00      0.00       149\n",
      "          PT       0.00      0.00      0.00        49\n",
      "          US       0.49      0.62      0.54     11979\n",
      "       other       0.00      0.00      0.00      1855\n",
      "\n",
      "    accuracy                           0.53     30378\n",
      "   macro avg       0.09      0.10      0.10     30378\n",
      "weighted avg       0.45      0.53      0.48     30378\n",
      "\n"
     ]
    }
   ],
   "source": [
    "from sklearn.metrics import classification_report\n",
    "print(classification_report(y_test, y_pred))"
   ]
  },
  {
   "cell_type": "code",
   "execution_count": 120,
   "metadata": {},
   "outputs": [
    {
     "data": {
      "text/plain": [
       "SVC(C=1.0, cache_size=200, class_weight=None, coef0=0.0,\n",
       "    decision_function_shape='ovr', degree=3, gamma='auto_deprecated',\n",
       "    kernel='linear', max_iter=-1, probability=False, random_state=0,\n",
       "    shrinking=True, tol=0.001, verbose=False)"
      ]
     },
     "execution_count": 120,
     "metadata": {},
     "output_type": "execute_result"
    }
   ],
   "source": [
    "#Linear SVM Model Fitting:\n",
    "from sklearn.svm import SVC\n",
    "svclassifier = SVC(kernel='linear',random_state=0)\n",
    "svclassifier.fit(X_train, y_train)"
   ]
  },
  {
   "cell_type": "code",
   "execution_count": 121,
   "metadata": {},
   "outputs": [
    {
     "name": "stdout",
     "output_type": "stream",
     "text": [
      "Accuracy: 0.8402370110275964\n"
     ]
    }
   ],
   "source": [
    "y_pred = svclassifier.predict(X_test)\n",
    "from sklearn import metrics\n",
    "\n",
    "# Model Accuracy: how often is the classifier correct?\n",
    "print(\"Accuracy:\",metrics.accuracy_score(y_test, y_pred))"
   ]
  },
  {
   "cell_type": "code",
   "execution_count": 122,
   "metadata": {},
   "outputs": [],
   "source": [
    "# Import Decision Tree Classifier\n",
    "from sklearn.tree import DecisionTreeClassifier \n",
    "# Create Decision Tree classifer object\n",
    "clf = DecisionTreeClassifier(criterion=\"entropy\", max_depth=20)\n",
    "# Train Decision Tree Classifer\n",
    "clf = clf.fit(X_train,y_train)\n",
    "\n",
    "#Predict the response for test dataset\n",
    "y_pred = clf.predict(X_test)"
   ]
  },
  {
   "cell_type": "code",
   "execution_count": 123,
   "metadata": {},
   "outputs": [
    {
     "name": "stdout",
     "output_type": "stream",
     "text": [
      "Accuracy: 0.758462720140451\n"
     ]
    }
   ],
   "source": [
    "# Model Accuracy, how often is the classifier correct\n",
    "print(\"Accuracy:\",metrics.accuracy_score(y_test, y_pred))"
   ]
  },
  {
   "cell_type": "code",
   "execution_count": 124,
   "metadata": {},
   "outputs": [],
   "source": [
    "#Import Random Forest Model\n",
    "from sklearn.ensemble import RandomForestClassifier\n",
    "\n",
    "#Create a Gaussian Classifier\n",
    "clf=RandomForestClassifier(n_estimators=100)\n",
    "\n",
    "#Train the model using the training sets y_pred=clf.predict(X_test)\n",
    "clf.fit(X_train,y_train)\n",
    "\n",
    "y_pred=clf.predict(X_test)"
   ]
  },
  {
   "cell_type": "code",
   "execution_count": 125,
   "metadata": {},
   "outputs": [
    {
     "name": "stdout",
     "output_type": "stream",
     "text": [
      "Accuracy: 0.8122291106600099\n"
     ]
    }
   ],
   "source": [
    "#Import scikit-learn metrics module for accuracy calculation\n",
    "from sklearn import metrics\n",
    "# Model Accuracy, how often is the classifier correct?\n",
    "print(\"Accuracy:\",metrics.accuracy_score(y_test, y_pred))"
   ]
  },
  {
   "cell_type": "code",
   "execution_count": 126,
   "metadata": {},
   "outputs": [],
   "source": [
    "#GBM algorithm  \n",
    "from sklearn.ensemble import GradientBoostingClassifier  \n",
    "from sklearn.metrics import mean_squared_error\n",
    "xgb = GradientBoostingClassifier()\n",
    "from sklearn.metrics import recall_score"
   ]
  },
  {
   "cell_type": "code",
   "execution_count": 127,
   "metadata": {},
   "outputs": [
    {
     "name": "stdout",
     "output_type": "stream",
     "text": [
      "Accuracy: 0.8400449882043123\n"
     ]
    }
   ],
   "source": [
    "xgb.fit(X_train, y_train)\n",
    "y_pred=xgb.predict(X_test)\n",
    "# Model Accuracy, how often is the classifier correct?\n",
    "print(\"Accuracy:\",metrics.accuracy_score(y_test, y_pred))"
   ]
  },
  {
   "cell_type": "code",
   "execution_count": 109,
   "metadata": {},
   "outputs": [],
   "source": [
    "# We did see a big change in accuracy of the models post label encoding however the classes are imbalanced hence need to\n",
    "#apply a SMOTE(Synthetic Minority Oversampling Technique);SMOTE:\n",
    "#Works by creating synthetic samples from the minor class (no-subscription) instead of creating copies.\n",
    "#Randomly choosing one of the k-nearest-neighbors and using it to create a similar, but randomly tweaked, new observations."
   ]
  },
  {
   "cell_type": "code",
   "execution_count": 152,
   "metadata": {},
   "outputs": [],
   "source": [
    "from imblearn.over_sampling import SMOTE\n",
    "from sklearn.datasets import make_classification\n",
    "from sklearn.model_selection import train_test_split\n",
    "from sklearn import metrics\n",
    "# Separate input features and target \n",
    "#y = dffinal_g.country_destination\n",
    "#X = dffinal_g.drop('country_destination', axis=1)\n",
    "# setting up testing and training sets \n",
    "Xn_train, X_test, yn_train, y_test = train_test_split(X1, y1, test_size=0.25) \n",
    "sm = SMOTE(random_state=27, sampling_strategy={'PT':15000, 'other':7000, 'FR':15000,\n",
    "                                                                 'IT':15000, 'GB':17000, 'ES':5000, 'CA':15000, 'DE':9000,\n",
    "                                                                 'NL':15000, 'AU':17000})"
   ]
  },
  {
   "cell_type": "code",
   "execution_count": 153,
   "metadata": {},
   "outputs": [
    {
     "name": "stdout",
     "output_type": "stream",
     "text": [
      "After OverSampling, the shape of train_X: (206702, 11)\n",
      "After OverSampling, the shape of train_y: (206702,) \n",
      "\n"
     ]
    }
   ],
   "source": [
    "Xn_train, yn_train = sm.fit_sample(Xn_train, yn_train)\n",
    "print('After OverSampling, the shape of train_X: {}'.format(Xn_train.shape)) \n",
    "print('After OverSampling, the shape of train_y: {} \\n'.format(yn_train.shape)) "
   ]
  },
  {
   "cell_type": "code",
   "execution_count": 54,
   "metadata": {},
   "outputs": [
    {
     "name": "stdout",
     "output_type": "stream",
     "text": [
      "Counter({'NDF': 41184, 'US': 35424, 'GB': 17000, 'AU': 17000, 'FR': 15000, 'CA': 15000, 'IT': 15000, 'NL': 15000, 'PT': 15000, 'DE': 9000, 'other': 7000, 'ES': 5000})\n"
     ]
    }
   ],
   "source": [
    "from collections import Counter \n",
    "print(Counter(yn_train))"
   ]
  },
  {
   "cell_type": "code",
   "execution_count": 154,
   "metadata": {},
   "outputs": [
    {
     "data": {
      "text/plain": [
       "LogisticRegression(C=1.0, class_weight=None, dual=False, fit_intercept=True,\n",
       "                   intercept_scaling=1, l1_ratio=None, max_iter=100,\n",
       "                   multi_class='multinomial', n_jobs=None, penalty='l2',\n",
       "                   random_state=0, solver='lbfgs', tol=0.0001, verbose=0,\n",
       "                   warm_start=False)"
      ]
     },
     "execution_count": 154,
     "metadata": {},
     "output_type": "execute_result"
    }
   ],
   "source": [
    "logreg = LogisticRegression(random_state=0, solver='lbfgs',\n",
    "                        multi_class='multinomial').fit(X, y)\n",
    "logreg.fit(Xn_train, yn_train)"
   ]
  },
  {
   "cell_type": "code",
   "execution_count": 112,
   "metadata": {},
   "outputs": [
    {
     "name": "stdout",
     "output_type": "stream",
     "text": [
      "Accuracy of logistic regression classifier on test set: 0.8431\n",
      "              precision    recall  f1-score   support\n",
      "\n",
      "          AU       0.00      0.00      0.00        99\n",
      "          CA       0.00      0.00      0.00       256\n",
      "          DE       0.00      0.00      0.00       202\n",
      "          ES       0.00      0.00      0.00       423\n",
      "          FR       0.00      0.00      0.00       865\n",
      "          GB       0.00      0.00      0.00       440\n",
      "          IT       0.00      0.00      0.00       468\n",
      "         NDF       1.00      1.00      1.00     13780\n",
      "          NL       0.00      0.00      0.00       124\n",
      "          PT       0.00      0.00      0.00        38\n",
      "          US       0.71      1.00      0.83     11831\n",
      "       other       0.00      0.00      0.00      1852\n",
      "\n",
      "    accuracy                           0.84     30378\n",
      "   macro avg       0.14      0.17      0.15     30378\n",
      "weighted avg       0.73      0.84      0.78     30378\n",
      "\n"
     ]
    }
   ],
   "source": [
    "#Predicting the accuracy of the logit regression on the test set:\n",
    "y_pred = logreg.predict(X_test)\n",
    "print('Accuracy of logistic regression classifier on test set: {:.4f}'.format(logreg.score(X_test, y_test)))\n",
    "from sklearn.metrics import classification_report\n",
    "print(classification_report(y_test, y_pred))"
   ]
  },
  {
   "cell_type": "code",
   "execution_count": null,
   "metadata": {},
   "outputs": [],
   "source": [
    "#Linear SVM Model Fitting:\n",
    "from sklearn.svm import SVC\n",
    "svclassifier = SVC(random_state=0)\n",
    "svclassifier.fit(Xn_train, yn_train)"
   ]
  },
  {
   "cell_type": "code",
   "execution_count": null,
   "metadata": {},
   "outputs": [],
   "source": [
    "y_pred = svclassifier.predict(X_test)\n",
    "from sklearn import metrics\n",
    "\n",
    "# Model Accuracy: how often is the classifier correct?\n",
    "print(\"Accuracy:\",metrics.accuracy_score(y_test, y_pred))\n",
    "print(classification_report(y_test, y_pred))"
   ]
  },
  {
   "cell_type": "code",
   "execution_count": 113,
   "metadata": {},
   "outputs": [],
   "source": [
    "# Import Decision Tree Classifier\n",
    "from sklearn.tree import DecisionTreeClassifier \n",
    "# Create Decision Tree classifer object\n",
    "clf = DecisionTreeClassifier(criterion=\"entropy\", max_depth=20)\n",
    "# Train Decision Tree Classifer\n",
    "clf = clf.fit(Xn_train,yn_train)\n",
    "\n",
    "#Predict the response for test dataset\n",
    "y_pred = clf.predict(X_test)"
   ]
  },
  {
   "cell_type": "code",
   "execution_count": 114,
   "metadata": {},
   "outputs": [
    {
     "name": "stdout",
     "output_type": "stream",
     "text": [
      "Accuracy: 0.7597932714464415\n",
      "              precision    recall  f1-score   support\n",
      "\n",
      "          AU       0.00      0.00      0.00        99\n",
      "          CA       0.02      0.02      0.02       256\n",
      "          DE       0.01      0.01      0.01       202\n",
      "          ES       0.02      0.02      0.02       423\n",
      "          FR       0.07      0.06      0.06       865\n",
      "          GB       0.03      0.03      0.03       440\n",
      "          IT       0.03      0.03      0.03       468\n",
      "         NDF       1.00      1.00      1.00     13780\n",
      "          NL       0.00      0.00      0.00       124\n",
      "          PT       0.00      0.00      0.00        38\n",
      "          US       0.71      0.77      0.74     11831\n",
      "       other       0.12      0.06      0.08      1852\n",
      "\n",
      "    accuracy                           0.76     30378\n",
      "   macro avg       0.17      0.17      0.17     30378\n",
      "weighted avg       0.74      0.76      0.75     30378\n",
      "\n"
     ]
    }
   ],
   "source": [
    "# Model Accuracy, how often is the classifier correct\n",
    "print(\"Accuracy:\",metrics.accuracy_score(y_test, y_pred))\n",
    "from sklearn.metrics import classification_report\n",
    "print(classification_report(y_test, y_pred))"
   ]
  },
  {
   "cell_type": "code",
   "execution_count": 115,
   "metadata": {},
   "outputs": [],
   "source": [
    "#Import Random Forest Model\n",
    "from sklearn.ensemble import RandomForestClassifier\n",
    "\n",
    "#Create a Gaussian Classifier\n",
    "clf=RandomForestClassifier(n_estimators=100)\n",
    "\n",
    "#Train the model using the training sets y_pred=clf.predict(X_test)\n",
    "clf.fit(Xn_train,yn_train)\n",
    "\n",
    "y_pred=clf.predict(X_test)"
   ]
  },
  {
   "cell_type": "code",
   "execution_count": 116,
   "metadata": {},
   "outputs": [
    {
     "name": "stdout",
     "output_type": "stream",
     "text": [
      "Accuracy: 0.8064717887945223\n",
      "              precision    recall  f1-score   support\n",
      "\n",
      "          AU       0.02      0.01      0.01        99\n",
      "          CA       0.00      0.00      0.00       256\n",
      "          DE       0.03      0.01      0.01       202\n",
      "          ES       0.03      0.01      0.01       423\n",
      "          FR       0.07      0.03      0.04       865\n",
      "          GB       0.04      0.01      0.02       440\n",
      "          IT       0.06      0.02      0.03       468\n",
      "         NDF       1.00      1.00      1.00     13780\n",
      "          NL       0.00      0.00      0.00       124\n",
      "          PT       0.00      0.00      0.00        38\n",
      "          US       0.71      0.89      0.79     11831\n",
      "       other       0.13      0.05      0.07      1852\n",
      "\n",
      "    accuracy                           0.81     30378\n",
      "   macro avg       0.17      0.17      0.17     30378\n",
      "weighted avg       0.74      0.81      0.77     30378\n",
      "\n"
     ]
    }
   ],
   "source": [
    "#Import scikit-learn metrics module for accuracy calculation\n",
    "from sklearn import metrics\n",
    "# Model Accuracy, how often is the classifier correct?\n",
    "print(\"Accuracy:\",metrics.accuracy_score(y_test, y_pred))\n",
    "from sklearn.metrics import classification_report\n",
    "print(classification_report(y_test, y_pred))"
   ]
  },
  {
   "cell_type": "code",
   "execution_count": 60,
   "metadata": {},
   "outputs": [],
   "source": [
    "#GBM algorithm  \n",
    "from sklearn.ensemble import GradientBoostingClassifier  \n",
    "from sklearn.metrics import mean_squared_error\n",
    "xgb = GradientBoostingClassifier()\n",
    "from sklearn.metrics import recall_score"
   ]
  },
  {
   "cell_type": "code",
   "execution_count": 118,
   "metadata": {},
   "outputs": [
    {
     "name": "stdout",
     "output_type": "stream",
     "text": [
      "Accuracy: 0.8426492856672592\n"
     ]
    }
   ],
   "source": [
    "xgb.fit(Xn_train, yn_train)\n",
    "y_pred=xgb.predict(X_test)\n",
    "# Model Accuracy, how often is the classifier correct?\n",
    "print(\"Accuracy:\",metrics.accuracy_score(y_test, y_pred))"
   ]
  },
  {
   "cell_type": "code",
   "execution_count": 119,
   "metadata": {},
   "outputs": [
    {
     "name": "stdout",
     "output_type": "stream",
     "text": [
      "              precision    recall  f1-score   support\n",
      "\n",
      "          AU       0.00      0.00      0.00        99\n",
      "          CA       0.00      0.00      0.00       256\n",
      "          DE       0.00      0.00      0.00       202\n",
      "          ES       0.00      0.00      0.00       423\n",
      "          FR       0.00      0.00      0.00       865\n",
      "          GB       0.00      0.00      0.00       440\n",
      "          IT       0.00      0.00      0.00       468\n",
      "         NDF       1.00      1.00      1.00     13780\n",
      "          NL       0.00      0.00      0.00       124\n",
      "          PT       0.00      0.00      0.00        38\n",
      "          US       0.71      1.00      0.83     11831\n",
      "       other       0.50      0.00      0.00      1852\n",
      "\n",
      "    accuracy                           0.84     30378\n",
      "   macro avg       0.18      0.17      0.15     30378\n",
      "weighted avg       0.76      0.84      0.78     30378\n",
      "\n"
     ]
    }
   ],
   "source": [
    "print(classification_report(y_test, y_pred))"
   ]
  },
  {
   "cell_type": "code",
   "execution_count": 155,
   "metadata": {},
   "outputs": [
    {
     "data": {
      "text/plain": [
       "NDF      54948\n",
       "US       47279\n",
       "other     7329\n",
       "FR        3604\n",
       "IT        1954\n",
       "GB        1705\n",
       "ES        1662\n",
       "CA        1048\n",
       "DE         825\n",
       "NL         580\n",
       "AU         423\n",
       "PT         154\n",
       "Name: country_destination, dtype: int64"
      ]
     },
     "execution_count": 155,
     "metadata": {},
     "output_type": "execute_result"
    }
   ],
   "source": [
    "#Since the data is imbalanced we have decided to try combining countries with lesser data to the others category & retry\n",
    "# all the models on the new df.\n",
    "dffin = dffinal_g['country_destination']\n",
    "dffin.value_counts()"
   ]
  },
  {
   "cell_type": "code",
   "execution_count": 156,
   "metadata": {},
   "outputs": [
    {
     "data": {
      "text/plain": [
       "Index(['NDF', 'US'], dtype='object')"
      ]
     },
     "execution_count": 156,
     "metadata": {},
     "output_type": "execute_result"
    }
   ],
   "source": [
    "top_two = dffin.value_counts().nlargest(2).index\n",
    "top_two"
   ]
  },
  {
   "cell_type": "code",
   "execution_count": 157,
   "metadata": {},
   "outputs": [],
   "source": [
    "updated_countries = dffin.where(dffin.isin(top_two), other='Others')"
   ]
  },
  {
   "cell_type": "code",
   "execution_count": 158,
   "metadata": {},
   "outputs": [
    {
     "data": {
      "text/plain": [
       "NDF       54948\n",
       "US        47279\n",
       "Others    19284\n",
       "Name: country_destination, dtype: int64"
      ]
     },
     "execution_count": 158,
     "metadata": {},
     "output_type": "execute_result"
    }
   ],
   "source": [
    "updated_countries.value_counts()"
   ]
  },
  {
   "cell_type": "code",
   "execution_count": 159,
   "metadata": {},
   "outputs": [
    {
     "name": "stdout",
     "output_type": "stream",
     "text": [
      "['NDF' 'US' 'Others']\n"
     ]
    },
    {
     "data": {
      "text/html": [
       "<div>\n",
       "<style scoped>\n",
       "    .dataframe tbody tr th:only-of-type {\n",
       "        vertical-align: middle;\n",
       "    }\n",
       "\n",
       "    .dataframe tbody tr th {\n",
       "        vertical-align: top;\n",
       "    }\n",
       "\n",
       "    .dataframe thead th {\n",
       "        text-align: right;\n",
       "    }\n",
       "</style>\n",
       "<table border=\"1\" class=\"dataframe\">\n",
       "  <thead>\n",
       "    <tr style=\"text-align: right;\">\n",
       "      <th></th>\n",
       "      <th>age</th>\n",
       "      <th>signup_method</th>\n",
       "      <th>language</th>\n",
       "      <th>signup_app</th>\n",
       "      <th>first_device_type</th>\n",
       "      <th>country_destination</th>\n",
       "      <th>gen_FEMALE</th>\n",
       "      <th>gen_MALE</th>\n",
       "      <th>gen_unknown</th>\n",
       "      <th>dfb_year</th>\n",
       "      <th>dfb_month</th>\n",
       "      <th>dfb_day</th>\n",
       "    </tr>\n",
       "  </thead>\n",
       "  <tbody>\n",
       "    <tr>\n",
       "      <td>1</td>\n",
       "      <td>38.0</td>\n",
       "      <td>1</td>\n",
       "      <td>4</td>\n",
       "      <td>2</td>\n",
       "      <td>0</td>\n",
       "      <td>NDF</td>\n",
       "      <td>0</td>\n",
       "      <td>1</td>\n",
       "      <td>0</td>\n",
       "      <td>0.0</td>\n",
       "      <td>0.0</td>\n",
       "      <td>0.0</td>\n",
       "    </tr>\n",
       "    <tr>\n",
       "      <td>2</td>\n",
       "      <td>56.0</td>\n",
       "      <td>0</td>\n",
       "      <td>4</td>\n",
       "      <td>2</td>\n",
       "      <td>2</td>\n",
       "      <td>US</td>\n",
       "      <td>1</td>\n",
       "      <td>0</td>\n",
       "      <td>0</td>\n",
       "      <td>2010.0</td>\n",
       "      <td>8.0</td>\n",
       "      <td>2.0</td>\n",
       "    </tr>\n",
       "    <tr>\n",
       "      <td>3</td>\n",
       "      <td>42.0</td>\n",
       "      <td>1</td>\n",
       "      <td>4</td>\n",
       "      <td>2</td>\n",
       "      <td>0</td>\n",
       "      <td>Others</td>\n",
       "      <td>1</td>\n",
       "      <td>0</td>\n",
       "      <td>0</td>\n",
       "      <td>2012.0</td>\n",
       "      <td>9.0</td>\n",
       "      <td>8.0</td>\n",
       "    </tr>\n",
       "    <tr>\n",
       "      <td>4</td>\n",
       "      <td>41.0</td>\n",
       "      <td>0</td>\n",
       "      <td>4</td>\n",
       "      <td>2</td>\n",
       "      <td>0</td>\n",
       "      <td>US</td>\n",
       "      <td>0</td>\n",
       "      <td>0</td>\n",
       "      <td>1</td>\n",
       "      <td>2010.0</td>\n",
       "      <td>2.0</td>\n",
       "      <td>18.0</td>\n",
       "    </tr>\n",
       "    <tr>\n",
       "      <td>6</td>\n",
       "      <td>46.0</td>\n",
       "      <td>0</td>\n",
       "      <td>4</td>\n",
       "      <td>2</td>\n",
       "      <td>0</td>\n",
       "      <td>US</td>\n",
       "      <td>1</td>\n",
       "      <td>0</td>\n",
       "      <td>0</td>\n",
       "      <td>2010.0</td>\n",
       "      <td>1.0</td>\n",
       "      <td>5.0</td>\n",
       "    </tr>\n",
       "  </tbody>\n",
       "</table>\n",
       "</div>"
      ],
      "text/plain": [
       "    age  signup_method  language  signup_app  first_device_type  \\\n",
       "1  38.0              1         4           2                  0   \n",
       "2  56.0              0         4           2                  2   \n",
       "3  42.0              1         4           2                  0   \n",
       "4  41.0              0         4           2                  0   \n",
       "6  46.0              0         4           2                  0   \n",
       "\n",
       "  country_destination  gen_FEMALE  gen_MALE  gen_unknown  dfb_year  dfb_month  \\\n",
       "1                 NDF           0         1            0       0.0        0.0   \n",
       "2                  US           1         0            0    2010.0        8.0   \n",
       "3              Others           1         0            0    2012.0        9.0   \n",
       "4                  US           0         0            1    2010.0        2.0   \n",
       "6                  US           1         0            0    2010.0        1.0   \n",
       "\n",
       "   dfb_day  \n",
       "1      0.0  \n",
       "2      2.0  \n",
       "3      8.0  \n",
       "4     18.0  \n",
       "6      5.0  "
      ]
     },
     "execution_count": 159,
     "metadata": {},
     "output_type": "execute_result"
    }
   ],
   "source": [
    "new_countries = updated_countries\n",
    "dafr = dffinal_g.copy()\n",
    "dafr['country_destination'] = new_countries\n",
    "print(dafr['country_destination'].unique())\n",
    "dafr.head()"
   ]
  },
  {
   "cell_type": "code",
   "execution_count": 160,
   "metadata": {},
   "outputs": [],
   "source": [
    "Xf = dafr[['age','signup_method','language','signup_app', 'first_device_type','gen_FEMALE','gen_MALE',\n",
    "                     'gen_unknown','dfb_year','dfb_month','dfb_day']]\n",
    "yf = dafr[['country_destination']]"
   ]
  },
  {
   "cell_type": "code",
   "execution_count": 161,
   "metadata": {},
   "outputs": [
    {
     "data": {
      "text/plain": [
       "LogisticRegression(C=1.0, class_weight=None, dual=False, fit_intercept=True,\n",
       "                   intercept_scaling=1, l1_ratio=None, max_iter=100,\n",
       "                   multi_class='multinomial', n_jobs=None, penalty='l2',\n",
       "                   random_state=0, solver='lbfgs', tol=0.0001, verbose=0,\n",
       "                   warm_start=False)"
      ]
     },
     "execution_count": 161,
     "metadata": {},
     "output_type": "execute_result"
    }
   ],
   "source": [
    "#Rerunning logistice regression on the new dataframe:\n",
    "X_train, X_test, y_train, y_test = train_test_split(Xf, yf, test_size=0.25) \n",
    "logreg = LogisticRegression(random_state=0, solver='lbfgs',\n",
    "                        multi_class='multinomial').fit(X, y)\n",
    "logreg.fit(X_train, y_train)"
   ]
  },
  {
   "cell_type": "code",
   "execution_count": 162,
   "metadata": {},
   "outputs": [
    {
     "name": "stdout",
     "output_type": "stream",
     "text": [
      "Accuracy of logistic regression classifier on test set: 0.8438\n",
      "              precision    recall  f1-score   support\n",
      "\n",
      "         NDF       1.00      1.00      1.00     13885\n",
      "      Others       0.00      0.00      0.00      4745\n",
      "          US       0.71      1.00      0.83     11748\n",
      "\n",
      "    accuracy                           0.84     30378\n",
      "   macro avg       0.57      0.67      0.61     30378\n",
      "weighted avg       0.73      0.84      0.78     30378\n",
      "\n"
     ]
    }
   ],
   "source": [
    "#Predicting the accuracy of the logit regression on the test set:\n",
    "y_pred = logreg.predict(X_test)\n",
    "print('Accuracy of logistic regression classifier on test set: {:.4f}'.format(logreg.score(X_test, y_test)))\n",
    "from sklearn.metrics import classification_report\n",
    "print(classification_report(y_test, y_pred))"
   ]
  },
  {
   "cell_type": "code",
   "execution_count": 65,
   "metadata": {},
   "outputs": [],
   "source": [
    "# Import Decision Tree Classifier\n",
    "from sklearn.tree import DecisionTreeClassifier \n",
    "# Create Decision Tree classifer object\n",
    "clf = DecisionTreeClassifier(criterion=\"entropy\", max_depth=20)\n",
    "# Train Decision Tree Classifer\n",
    "clf = clf.fit(X_train,y_train)\n",
    "\n",
    "#Predict the response for test dataset\n",
    "y_pred = clf.predict(X_test)"
   ]
  },
  {
   "cell_type": "code",
   "execution_count": 66,
   "metadata": {},
   "outputs": [
    {
     "name": "stdout",
     "output_type": "stream",
     "text": [
      "Accuracy: 0.8065047073540061\n",
      "              precision    recall  f1-score   support\n",
      "\n",
      "         NDF       1.00      1.00      1.00     13675\n",
      "      Others       0.30      0.18      0.22      4731\n",
      "          US       0.72      0.83      0.77     11972\n",
      "\n",
      "    accuracy                           0.81     30378\n",
      "   macro avg       0.67      0.67      0.67     30378\n",
      "weighted avg       0.78      0.81      0.79     30378\n",
      "\n"
     ]
    }
   ],
   "source": [
    "# Model Accuracy, how often is the classifier correct\n",
    "print(\"Accuracy:\",metrics.accuracy_score(y_test, y_pred))\n",
    "from sklearn.metrics import classification_report\n",
    "print(classification_report(y_test, y_pred))"
   ]
  },
  {
   "cell_type": "code",
   "execution_count": 67,
   "metadata": {},
   "outputs": [],
   "source": [
    "#Import Random Forest Model\n",
    "from sklearn.ensemble import RandomForestClassifier\n",
    "\n",
    "#Create a Gaussian Classifier\n",
    "clf=RandomForestClassifier(n_estimators=100)\n",
    "\n",
    "#Train the model using the training sets y_pred=clf.predict(X_test)\n",
    "clf.fit(X_train,y_train)\n",
    "\n",
    "y_pred=clf.predict(X_test)"
   ]
  },
  {
   "cell_type": "code",
   "execution_count": 68,
   "metadata": {},
   "outputs": [
    {
     "name": "stdout",
     "output_type": "stream",
     "text": [
      "Accuracy: 0.8104878530515505\n",
      "              precision    recall  f1-score   support\n",
      "\n",
      "         NDF       1.00      1.00      1.00     13675\n",
      "      Others       0.30      0.17      0.21      4731\n",
      "          US       0.72      0.85      0.78     11972\n",
      "\n",
      "    accuracy                           0.81     30378\n",
      "   macro avg       0.67      0.67      0.66     30378\n",
      "weighted avg       0.78      0.81      0.79     30378\n",
      "\n"
     ]
    }
   ],
   "source": [
    "# Model Accuracy, how often is the classifier correct?\n",
    "print(\"Accuracy:\",metrics.accuracy_score(y_test, y_pred))\n",
    "from sklearn.metrics import classification_report\n",
    "print(classification_report(y_test, y_pred))"
   ]
  },
  {
   "cell_type": "code",
   "execution_count": 70,
   "metadata": {},
   "outputs": [
    {
     "name": "stdout",
     "output_type": "stream",
     "text": [
      "Accuracy: 0.8445585621173217\n",
      "              precision    recall  f1-score   support\n",
      "\n",
      "         NDF       1.00      1.00      1.00     13675\n",
      "      Others       0.66      0.00      0.01      4731\n",
      "          US       0.72      1.00      0.84     11972\n",
      "\n",
      "    accuracy                           0.84     30378\n",
      "   macro avg       0.79      0.67      0.61     30378\n",
      "weighted avg       0.83      0.84      0.78     30378\n",
      "\n"
     ]
    }
   ],
   "source": [
    "#GBM algorithm  \n",
    "from sklearn.ensemble import GradientBoostingClassifier  \n",
    "from sklearn.metrics import mean_squared_error\n",
    "xgb = GradientBoostingClassifier()\n",
    "xgb.fit(X_train, y_train)\n",
    "y_pred=xgb.predict(X_test)\n",
    "# Model Accuracy, how often is the classifier correct?\n",
    "print(\"Accuracy:\",metrics.accuracy_score(y_test, y_pred))\n",
    "print(classification_report(y_test, y_pred))"
   ]
  },
  {
   "cell_type": "code",
   "execution_count": 71,
   "metadata": {},
   "outputs": [
    {
     "data": {
      "text/plain": [
       "SVC(C=1.0, cache_size=200, class_weight=None, coef0=0.0,\n",
       "    decision_function_shape='ovr', degree=3, gamma='auto_deprecated',\n",
       "    kernel='rbf', max_iter=-1, probability=False, random_state=0,\n",
       "    shrinking=True, tol=0.001, verbose=False)"
      ]
     },
     "execution_count": 71,
     "metadata": {},
     "output_type": "execute_result"
    }
   ],
   "source": [
    "#Linear SVM Model Fitting:\n",
    "from sklearn.svm import SVC\n",
    "svclassifier = SVC(random_state=0)\n",
    "svclassifier.fit(X_train, y_train)"
   ]
  },
  {
   "cell_type": "code",
   "execution_count": 72,
   "metadata": {},
   "outputs": [
    {
     "name": "stdout",
     "output_type": "stream",
     "text": [
      "Accuracy: 0.8433405754164198\n",
      "              precision    recall  f1-score   support\n",
      "\n",
      "         NDF       1.00      1.00      1.00     13675\n",
      "      Others       0.32      0.01      0.01      4731\n",
      "          US       0.72      1.00      0.83     11972\n",
      "\n",
      "    accuracy                           0.84     30378\n",
      "   macro avg       0.68      0.67      0.61     30378\n",
      "weighted avg       0.78      0.84      0.78     30378\n",
      "\n"
     ]
    }
   ],
   "source": [
    "y_pred = svclassifier.predict(X_test)\n",
    "from sklearn import metrics\n",
    "\n",
    "# Model Accuracy: how often is the classifier correct?\n",
    "print(\"Accuracy:\",metrics.accuracy_score(y_test, y_pred))\n",
    "print(classification_report(y_test, y_pred))"
   ]
  },
  {
   "cell_type": "code",
   "execution_count": 79,
   "metadata": {},
   "outputs": [
    {
     "name": "stdout",
     "output_type": "stream",
     "text": [
      "LR: 0.841298 (0.012498)\n",
      "clf: 0.792546 (0.014614)\n",
      "DT: 0.767420 (0.011935)\n",
      "GB: 0.841298 (0.012347)\n",
      "SVM: 0.840854 (0.012561)\n"
     ]
    },
    {
     "data": {
      "image/png": "[encoded data removed]",
      "text/plain": [
       "<Figure size 842.4x595.44 with 1 Axes>"
      ]
     },
     "metadata": {},
     "output_type": "display_data"
    }
   ],
   "source": [
    "# prepare models\n",
    "from sklearn import model_selection\n",
    "models = []\n",
    "models.append(('LR', LogisticRegression()))\n",
    "models.append(('clf', RandomForestClassifier()))\n",
    "models.append(('DT', DecisionTreeClassifier()))\n",
    "models.append(('GB', GradientBoostingClassifier()))\n",
    "models.append(('SVM', SVC()))\n",
    "# evaluate each model in turn\n",
    "results = []\n",
    "names = []\n",
    "scoring = 'accuracy'\n",
    "for name, model in models:\n",
    "    kfold = model_selection.KFold(n_splits=10, random_state=0)\n",
    "    cv_results = model_selection.cross_val_score(model, Xf, yf, cv=kfold, scoring=scoring)\n",
    "    results.append(cv_results)\n",
    "    names.append(name)\n",
    "    msg = \"%s: %f (%f)\" % (name, cv_results.mean(), cv_results.std())\n",
    "    print(msg)\n",
    "# boxplot algorithm comparison\n",
    "fig = plt.figure()\n",
    "fig.suptitle('Algorithm Comparison')\n",
    "ax = fig.add_subplot(111)\n",
    "plt.boxplot(results)\n",
    "ax.set_xticklabels(names)\n",
    "plt.show()\n",
    "#As we can see that our best two models are Logistic Regression(multinomial) & Gradient Boost however we would like to go\n",
    "#ahead with GB based on its standard deviation which is lower."
   ]
  },
  {
   "cell_type": "code",
   "execution_count": null,
   "metadata": {},
   "outputs": [],
   "source": []
  },
  {
   "cell_type": "code",
   "execution_count": 88,
   "metadata": {},
   "outputs": [
    {
     "data": {
      "image/png": "[encoded data removed]",
      "text/plain": [
       "<Figure size 842.4x595.44 with 1 Axes>"
      ]
     },
     "metadata": {},
     "output_type": "display_data"
    }
   ],
   "source": [
    "# plot feature importance using built-in function for GB\n",
    "from numpy import loadtxt\n",
    "from xgboost import XGBClassifier\n",
    "from xgboost import plot_importance\n",
    "from matplotlib import pyplot\n",
    "# fit model no training data\n",
    "model = XGBClassifier()\n",
    "model.fit(Xf, yf)\n",
    "# plot feature importance\n",
    "plot_importance(model)\n",
    "pyplot.show()"
   ]
  },
  {
   "cell_type": "code",
   "execution_count": 99,
   "metadata": {},
   "outputs": [
    {
     "name": "stdout",
     "output_type": "stream",
     "text": [
      "Correlation:                  age  language  signup_app  dfb_year  dfb_month\n",
      "age         1.000000  0.063912   -0.024814 -0.031444  -0.022027\n",
      "language    0.063912  1.000000    0.003152  0.056592   0.040909\n",
      "signup_app -0.024814  0.003152    1.000000 -0.017701  -0.013787\n",
      "dfb_year   -0.031444  0.056592   -0.017701  1.000000   0.790562\n",
      "dfb_month  -0.022027  0.040909   -0.013787  0.790562   1.000000\n"
     ]
    },
    {
     "data": {
      "image/png": "[encoded data removed]",
      "text/plain": [
       "<Figure size 720x720 with 2 Axes>"
      ]
     },
     "metadata": {},
     "output_type": "display_data"
    }
   ],
   "source": [
    "#get correlations of top five features in dataset\n",
    "dafr = dffinal_g.copy()\n",
    "dafr = dafr[['age','language','signup_app', \n",
    "                    'dfb_year','dfb_month', 'country_destination']]\n",
    "corrmat = dafr.corr()\n",
    "top_corr_features = corrmat.index\n",
    "plt.figure(figsize=(10,10))\n",
    "#plot heat map\n",
    "g=sns.heatmap(data[top_corr_features].corr(),annot=True,cmap=\"RdYlGn\")\n",
    "print(\"Correlation:\", dafr.corr(method='pearson'))\n",
    "#The darker the color the stronger the correlation in relevance to the other numbers. The only strong correlation we can\n",
    "#see is between dfb_year and dfb_month."
   ]
  },
  {
   "cell_type": "code",
   "execution_count": 163,
   "metadata": {},
   "outputs": [],
   "source": [
    "import numpy as np\n",
    "import pandas as pd\n",
    "from matplotlib import pyplot as plt\n",
    "from sklearn.metrics import confusion_matrix\n",
    "from sklearn.neighbors import KNeighborsClassifier\n",
    "from sklearn.model_selection import train_test_split\n",
    "import seaborn as sns\n",
    "sns.set()"
   ]
  },
  {
   "cell_type": "code",
   "execution_count": 169,
   "metadata": {},
   "outputs": [],
   "source": [
    "Xf1 = dafr[['age','language','signup_app','dfb_year','dfb_month','dfb_day']]\n",
    "yf1 = dafr[['country_destination']]\n",
    "X_train, X_test, y_train, y_test = train_test_split(Xf1, yf1, random_state=1)"
   ]
  },
  {
   "cell_type": "code",
   "execution_count": 172,
   "metadata": {},
   "outputs": [
    {
     "data": {
      "text/plain": [
       "KNeighborsClassifier(algorithm='auto', leaf_size=30, metric='euclidean',\n",
       "                     metric_params=None, n_jobs=None, n_neighbors=5, p=2,\n",
       "                     weights='uniform')"
      ]
     },
     "execution_count": 172,
     "metadata": {},
     "output_type": "execute_result"
    }
   ],
   "source": [
    "knn = KNeighborsClassifier(n_neighbors=5, metric='euclidean')\n",
    "knn.fit(X_train, y_train)"
   ]
  },
  {
   "cell_type": "code",
   "execution_count": 175,
   "metadata": {},
   "outputs": [
    {
     "name": "stdout",
     "output_type": "stream",
     "text": [
      "Accuracy: 0.8067680558298769\n"
     ]
    }
   ],
   "source": [
    "y_pred = knn.predict(X_test)\n",
    "# Model Accuracy, how often is the classifier correct?\n",
    "print(\"Accuracy:\",metrics.accuracy_score(y_test, y_pred))"
   ]
  },
  {
   "cell_type": "code",
   "execution_count": 197,
   "metadata": {},
   "outputs": [
    {
     "name": "stdout",
     "output_type": "stream",
     "text": [
      "<class 'pandas.core.frame.DataFrame'>\n"
     ]
    }
   ],
   "source": [
    "print(type(yf1))"
   ]
  },
  {
   "cell_type": "code",
   "execution_count": null,
   "metadata": {},
   "outputs": [],
   "source": []
  },
  {
   "cell_type": "code",
   "execution_count": null,
   "metadata": {},
   "outputs": [],
   "source": []
  },
  {
   "cell_type": "code",
   "execution_count": null,
   "metadata": {},
   "outputs": [],
   "source": []
  },
  {
   "cell_type": "code",
   "execution_count": null,
   "metadata": {},
   "outputs": [],
   "source": []
  }
 ],
 "metadata": {
  "kernelspec": {
   "display_name": "Python 3",
   "language": "python",
   "name": "python3"
  },
  "language_info": {
   "codemirror_mode": {
    "name": "ipython",
    "version": 3
   },
   "file_extension": ".py",
   "mimetype": "text/x-python",
   "name": "python",
   "nbconvert_exporter": "python",
   "pygments_lexer": "ipython3",
   "version": "3.6.8"
  }
 },
 "nbformat": 4,
 "nbformat_minor": 2
}
